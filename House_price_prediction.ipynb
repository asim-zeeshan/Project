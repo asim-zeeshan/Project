{
 "cells": [
  {
   "cell_type": "markdown",
   "metadata": {},
   "source": [
    "# The House Price Prediction Problem"
   ]
  },
  {
   "cell_type": "markdown",
   "metadata": {},
   "source": [
    "**Name:** Zeeshan Asim Ather\n",
    "\n",
    "**Roll No.:** D21038"
   ]
  },
  {
   "cell_type": "markdown",
   "metadata": {},
   "source": []
  },
  {
   "cell_type": "markdown",
   "metadata": {},
   "source": [
    "## Problem Statement:\n",
    "\n",
    "The House Price Prediction Problem\n",
    "\n",
    "In this problem, you will be given a dataset that records the house prices of 9,761 houses in King County, Washington, US. The house prices are recorded along with some other attributes like - area of the house, number of bedrooms, number of bathrooms, etc. You are required to do the following tasks:\n",
    "\n",
    "\n",
    "1) Question the data - Understand the variables very carefully and formulate your questions/hypothesis. (Note that these are just your initial hypothesis which may or may not seem to be true after the EDA step)\n",
    "\n",
    "2) EDA - explore the dataset very carefully. Do univariate analysis and bivariate analysis by choosing appropriate graphs, charts and descriptive measures. Report the surprising elements (i.e. the one which you believed would be true in step 1 did not turn out t be true, or a result that was beyond your expectation, etc.)\n",
    "\n",
    "3) Initial model fitting step - FIt a couple of linear regression models by considering different sets of predictors on the training dataset. Argue the reasons for considering those predictor sets. Report 10-fold cross-validation RMSE and R-squared values. Discuss the results.\n",
    "\n",
    "4) Feature engineering - (A) Suggest some possible feature transformations (like log(X), sqrt(X), X^2, X1*X2, etc.) with reasons, which you believe could have improved the performances of the previous models. Experiment to check if such transformations actually help to do so. (B) suggest some new feature generation techniques (e.g. creating dummy variables, or using one-hot encoding, or transforming an existing feature to a new feature as you may convert the variable 'year built' to the 'age of the house'. Check if such transformations help in improving the performances of the models. Report the RMSE and R-squared values in each case.\n",
    "\n",
    "5) Model fitting step 2 - You may use model selection methods like (forward selection or backward elimination methods) to select an appropriate model.\n",
    "\n",
    "6) Model fitting step 3 - Experiment and check if a decision tree model can be used to fit the data mode accurately. You are free to use any kind of hyperparameter tuning to fit the model. Experiment using all the feature sets you have created before (including all the transformed sets and new feature-generated sets).\n",
    "\n",
    "7) Model testing - Consider the best competing models and test their performances on the test data. Report the results."
   ]
  },
  {
   "cell_type": "markdown",
   "metadata": {},
   "source": [
    "### Table of Contents:\n",
    "\n",
    "1. <b>[Question the data](#0)</b> \n",
    "\n",
    "\n",
    "2. <b>[EDA](#1)</b> \n",
    "\n",
    "[(a) Univariate Analysis](#2)\n",
    "   \n",
    "[(b) Bivariate Analysis](#3)\n",
    "\n",
    "[(c) Observations based on EDA](#4)\n",
    "\n",
    "3. <b>[Initial model fitting step](#5)</b> \n",
    "\n",
    "[(a) Model -1 ](#6)\n",
    "\n",
    "[(b) Model - 2](#7)\n",
    "\n",
    "4. <b>[Feature Engineering](#8)</b> \n",
    "\n",
    "[(a) Feature Transformation](#9)\n",
    "\n",
    "[(b) New Feature Generation](#10)\n",
    "\n",
    "5. <b>[Model fitting step - 2](#11)</b> \n",
    "\n",
    "[(a) Forward Selection](#12)\n",
    "\n",
    "[(b) Backward Elimination](#13)\n",
    "\n",
    "6. <b>[Model fitting step - 3](#14)</b> \n",
    "\n",
    "\n",
    "7. <b>[Model Testing](#15)</b> "
   ]
  },
  {
   "cell_type": "code",
   "execution_count": 2,
   "metadata": {},
   "outputs": [],
   "source": [
    "import numpy as np\n",
    "import pandas as pd\n",
    "import math\n",
    "import matplotlib.pyplot as plt\n",
    "import seaborn as sns\n",
    "import sklearn\n",
    "from sklearn.model_selection import train_test_split\n",
    "from sklearn.model_selection import cross_val_score\n",
    "from sklearn.model_selection import cross_validate\n",
    "from sklearn.linear_model import LinearRegression\n",
    "\n",
    "\n",
    "from sklearn.preprocessing import OneHotEncoder\n",
    "\n",
    "# Reading the train dataset\n",
    "house = pd.read_csv(r\"E:\\Data Science\\D21- IML- Introduction to Machine Learning\\kc_house_train_data.csv\")\n",
    "\n",
    "pd.set_option(\"display.max_columns\", None)"
   ]
  },
  {
   "cell_type": "code",
   "execution_count": 134,
   "metadata": {},
   "outputs": [],
   "source": [
    "house[\"date\"] = pd.to_datetime(house[\"date\"])"
   ]
  },
  {
   "cell_type": "markdown",
   "metadata": {},
   "source": [
    "## 1) Question the data <a id='0' >  </a>"
   ]
  },
  {
   "cell_type": "markdown",
   "metadata": {},
   "source": [
    "The dataset kc_house_train_data has 21 columns namely \n",
    "                 \n",
    "                 ['id','date','price',\n",
    "                 \n",
    "                 'bedrooms','bathrooms','sqft_living',\n",
    "                 \n",
    "                 'sqft_lot','floors','waterfront',\n",
    "                 \n",
    "                 'view','condition','grade',\n",
    "               \n",
    "               'sqft_above','sqft_basement','yr_built',\n",
    "             \n",
    "             'yr_renovated','zipcode','lat',\n",
    "             \n",
    "             'long','sqft_living15','sqft_lot15']\n",
    "\n",
    "The initial inferences/hypothesis that can be made from the dataset are as follows:\n",
    "\n",
    "1. sqft_living and sqft_lot will have a significant impact on price of the house.\n",
    "\n",
    "\n",
    "2. No.of bedrooms and bathrooms can be a deciding factor of the price.\n",
    "\n",
    "\n",
    "3. Age of the house (based on yr_built), renovations(if any), grade and condition will affect house price.\n",
    "\n",
    "\n",
    "4. Presence of waterfront, view of the house might have little impact on house price.\n",
    "\n",
    "\n",
    "5. Theoretically, latitude and longitude, zipcode will determine the location which in turn affects the house price. However in a Regression model, latitude, longitude and zipcode cannot be used as is because there's no established relationship that a unit change in latitude/longitude and pincode will result in some units change in Price of the house. Their effect can be better captured in Clustering models.\n",
    "\n",
    "\n",
    "6. No.of floors, presence or absence of basement i.e sqft_basement and sqft_above might bring slight changes to House price."
   ]
  },
  {
   "cell_type": "markdown",
   "metadata": {},
   "source": [
    "## 2) EDA   <a id='1' >  </a>"
   ]
  },
  {
   "cell_type": "markdown",
   "metadata": {},
   "source": [
    "### Univariate Analysis: <a id='2' >  </a>"
   ]
  },
  {
   "cell_type": "code",
   "execution_count": 3,
   "metadata": {},
   "outputs": [],
   "source": [
    "# List of continuous features\n",
    "Continuous = [\"sqft_living\",\"sqft_lot\",\"sqft_above\",\"sqft_basement\",\"sqft_living15\",\"sqft_lot15\"]\n",
    "\n",
    "# List of discrete(also binary categorical) features\n",
    "Discrete = [\"bedrooms\",\"bathrooms\",\"floors\",\"waterfront\",\"view\",\"condition\",\"grade\"]"
   ]
  },
  {
   "cell_type": "markdown",
   "metadata": {},
   "source": [
    "#### Sqft_living:"
   ]
  },
  {
   "cell_type": "code",
   "execution_count": 4,
   "metadata": {},
   "outputs": [
    {
     "data": {
      "text/plain": [
       "count     9761.000000\n",
       "mean      2086.734146\n",
       "std        927.194303\n",
       "min        290.000000\n",
       "25%       1420.000000\n",
       "50%       1910.000000\n",
       "75%       2570.000000\n",
       "max      12050.000000\n",
       "Name: sqft_living, dtype: float64"
      ]
     },
     "execution_count": 4,
     "metadata": {},
     "output_type": "execute_result"
    }
   ],
   "source": [
    "# To get all aggregate functions.\n",
    "house[\"sqft_living\"].describe()"
   ]
  },
  {
   "cell_type": "code",
   "execution_count": 5,
   "metadata": {},
   "outputs": [
    {
     "data": {
      "text/plain": [
       "(4295.0, -305.0, 1150.0)"
      ]
     },
     "execution_count": 5,
     "metadata": {},
     "output_type": "execute_result"
    }
   ],
   "source": [
    "# Outlier analysis\n",
    "\n",
    "# Quartile-3\n",
    "Q3 = house[\"sqft_living\"].quantile(0.75)\n",
    "# Quartile-1\n",
    "Q1 = house[\"sqft_living\"].quantile(0.25)\n",
    "\n",
    "# Inter-quartile range\n",
    "IQR = Q3-Q1\n",
    "\n",
    "# Upper bound after which datapoints are considered Outliers\n",
    "Out1 = Q3 + 1.5*IQR\n",
    "# Lower bound below which datapoints are considered Outliers\n",
    "Out2 = Q1 - 1.5*IQR\n",
    "\n",
    "Out1,Out2,IQR"
   ]
  },
  {
   "cell_type": "markdown",
   "metadata": {},
   "source": [
    "#### Sqft_lot:"
   ]
  },
  {
   "cell_type": "code",
   "execution_count": 6,
   "metadata": {},
   "outputs": [
    {
     "data": {
      "text/plain": [
       "count    9.761000e+03\n",
       "mean     1.521526e+04\n",
       "std      4.126673e+04\n",
       "min      5.200000e+02\n",
       "25%      5.100000e+03\n",
       "50%      7.642000e+03\n",
       "75%      1.066000e+04\n",
       "max      1.651359e+06\n",
       "Name: sqft_lot, dtype: float64"
      ]
     },
     "execution_count": 6,
     "metadata": {},
     "output_type": "execute_result"
    }
   ],
   "source": [
    "# To get all aggregate functions.\n",
    "house[\"sqft_lot\"].describe()"
   ]
  },
  {
   "cell_type": "code",
   "execution_count": 7,
   "metadata": {},
   "outputs": [
    {
     "data": {
      "text/plain": [
       "(19000.0, -3240.0, 5560.0)"
      ]
     },
     "execution_count": 7,
     "metadata": {},
     "output_type": "execute_result"
    }
   ],
   "source": [
    "# Outlier analysis\n",
    "\n",
    "# Quartile-3\n",
    "Q3 = house[\"sqft_lot\"].quantile(0.75)\n",
    "# Quartile-1\n",
    "Q1 = house[\"sqft_lot\"].quantile(0.25)\n",
    "\n",
    "# Inter-quartile range\n",
    "IQR = Q3-Q1\n",
    "\n",
    "# Upper bound after which datapoints are considered Outliers\n",
    "Out1 = Q3 + 1.5*IQR\n",
    "# Lower bound below which datapoints are considered Outliers\n",
    "Out2 = Q1 - 1.5*IQR\n",
    "\n",
    "Out1,Out2,IQR"
   ]
  },
  {
   "cell_type": "markdown",
   "metadata": {},
   "source": [
    "#### Plotting Histogram and Boxplots of Continuous variables:"
   ]
  },
  {
   "cell_type": "code",
   "execution_count": 8,
   "metadata": {},
   "outputs": [
    {
     "data": {
      "image/png": "[encoded data removed]",
      "text/plain": [
       "<Figure size 432x288 with 1 Axes>"
      ]
     },
     "metadata": {
      "needs_background": "light"
     },
     "output_type": "display_data"
    },
    {
     "data": {
      "image/png": "[encoded data removed]",
      "text/plain": [
       "<Figure size 432x288 with 1 Axes>"
      ]
     },
     "metadata": {
      "needs_background": "light"
     },
     "output_type": "display_data"
    },
    {
     "data": {
      "image/png": "[encoded data removed]",
      "text/plain": [
       "<Figure size 432x288 with 1 Axes>"
      ]
     },
     "metadata": {
      "needs_background": "light"
     },
     "output_type": "display_data"
    },
    {
     "data": {
      "image/png": "[encoded data removed]",
      "text/plain": [
       "<Figure size 432x288 with 1 Axes>"
      ]
     },
     "metadata": {
      "needs_background": "light"
     },
     "output_type": "display_data"
    },
    {
     "data": {
      "image/png": "[encoded data removed]",
      "text/plain": [
       "<Figure size 432x288 with 1 Axes>"
      ]
     },
     "metadata": {
      "needs_background": "light"
     },
     "output_type": "display_data"
    },
    {
     "data": {
      "image/png": "[encoded data removed]",
      "text/plain": [
       "<Figure size 432x288 with 1 Axes>"
      ]
     },
     "metadata": {
      "needs_background": "light"
     },
     "output_type": "display_data"
    },
    {
     "data": {
      "image/png": "[encoded data removed]",
      "text/plain": [
       "<Figure size 432x288 with 1 Axes>"
      ]
     },
     "metadata": {
      "needs_background": "light"
     },
     "output_type": "display_data"
    },
    {
     "data": {
      "image/png": "[encoded data removed]",
      "text/plain": [
       "<Figure size 432x288 with 1 Axes>"
      ]
     },
     "metadata": {
      "needs_background": "light"
     },
     "output_type": "display_data"
    },
    {
     "data": {
      "image/png": "[encoded data removed]",
      "text/plain": [
       "<Figure size 432x288 with 1 Axes>"
      ]
     },
     "metadata": {
      "needs_background": "light"
     },
     "output_type": "display_data"
    },
    {
     "data": {
      "image/png": "[encoded data removed]",
      "text/plain": [
       "<Figure size 432x288 with 1 Axes>"
      ]
     },
     "metadata": {
      "needs_background": "light"
     },
     "output_type": "display_data"
    },
    {
     "data": {
      "image/png": "[encoded data removed]",
      "text/plain": [
       "<Figure size 432x288 with 1 Axes>"
      ]
     },
     "metadata": {
      "needs_background": "light"
     },
     "output_type": "display_data"
    },
    {
     "data": {
      "image/png": "[encoded data removed]",
      "text/plain": [
       "<Figure size 432x288 with 1 Axes>"
      ]
     },
     "metadata": {
      "needs_background": "light"
     },
     "output_type": "display_data"
    }
   ],
   "source": [
    "for i in Continuous:\n",
    "    sns.histplot(data = house[i])\n",
    "    plt.show()\n",
    "    sns.boxplot(data = house[i],orient = \"h\")\n",
    "    plt.ylabel(\"%s\"%i)\n",
    "    plt.show()"
   ]
  },
  {
   "cell_type": "markdown",
   "metadata": {},
   "source": [
    "#### Bedrooms:"
   ]
  },
  {
   "cell_type": "code",
   "execution_count": 9,
   "metadata": {},
   "outputs": [
    {
     "data": {
      "text/plain": [
       "count    9761.000000\n",
       "mean        3.375884\n",
       "std         0.960697\n",
       "min         0.000000\n",
       "25%         3.000000\n",
       "50%         3.000000\n",
       "75%         4.000000\n",
       "max        33.000000\n",
       "Name: bedrooms, dtype: float64"
      ]
     },
     "execution_count": 9,
     "metadata": {},
     "output_type": "execute_result"
    }
   ],
   "source": [
    "# To get all aggregate functions.\n",
    "house[\"bedrooms\"].describe()"
   ]
  },
  {
   "cell_type": "code",
   "execution_count": 10,
   "metadata": {},
   "outputs": [
    {
     "data": {
      "text/plain": [
       "(5.5, 1.5, 1.0)"
      ]
     },
     "execution_count": 10,
     "metadata": {},
     "output_type": "execute_result"
    }
   ],
   "source": [
    "# Outlier analysis\n",
    "\n",
    "# Quartile-3\n",
    "Q3 = house[\"bedrooms\"].quantile(0.75)\n",
    "# Quartile-1\n",
    "Q1 = house[\"bedrooms\"].quantile(0.25)\n",
    "\n",
    "# Inter-quartile range\n",
    "IQR = Q3-Q1\n",
    "\n",
    "# Upper bound after which datapoints are considered Outliers\n",
    "Out1 = Q3 + 1.5*IQR\n",
    "# Lower bound below which datapoints are considered Outliers\n",
    "Out2 = Q1 - 1.5*IQR\n",
    "\n",
    "Out1,Out2,IQR"
   ]
  },
  {
   "cell_type": "code",
   "execution_count": 125,
   "metadata": {},
   "outputs": [
    {
     "data": {
      "text/html": [
       "<div>\n",
       "<style scoped>\n",
       "    .dataframe tbody tr th:only-of-type {\n",
       "        vertical-align: middle;\n",
       "    }\n",
       "\n",
       "    .dataframe tbody tr th {\n",
       "        vertical-align: top;\n",
       "    }\n",
       "\n",
       "    .dataframe thead th {\n",
       "        text-align: right;\n",
       "    }\n",
       "</style>\n",
       "<table border=\"1\" class=\"dataframe\">\n",
       "  <thead>\n",
       "    <tr style=\"text-align: right;\">\n",
       "      <th></th>\n",
       "      <th>id</th>\n",
       "      <th>date</th>\n",
       "      <th>price</th>\n",
       "      <th>bedrooms</th>\n",
       "      <th>bathrooms</th>\n",
       "      <th>sqft_living</th>\n",
       "      <th>sqft_lot</th>\n",
       "      <th>floors</th>\n",
       "      <th>waterfront</th>\n",
       "      <th>view</th>\n",
       "      <th>condition</th>\n",
       "      <th>grade</th>\n",
       "      <th>sqft_above</th>\n",
       "      <th>sqft_basement</th>\n",
       "      <th>yr_built</th>\n",
       "      <th>yr_renovated</th>\n",
       "      <th>zipcode</th>\n",
       "      <th>lat</th>\n",
       "      <th>long</th>\n",
       "      <th>sqft_living15</th>\n",
       "      <th>sqft_lot15</th>\n",
       "      <th>log_sqft_living</th>\n",
       "      <th>log_sqft_lot</th>\n",
       "      <th>Difference in area</th>\n",
       "      <th>No.of years</th>\n",
       "    </tr>\n",
       "  </thead>\n",
       "  <tbody>\n",
       "    <tr>\n",
       "      <th>2228</th>\n",
       "      <td>6896300380</td>\n",
       "      <td>20141002T000000</td>\n",
       "      <td>228000.0</td>\n",
       "      <td>0</td>\n",
       "      <td>1.00</td>\n",
       "      <td>390</td>\n",
       "      <td>5900</td>\n",
       "      <td>1.0</td>\n",
       "      <td>0</td>\n",
       "      <td>0</td>\n",
       "      <td>2</td>\n",
       "      <td>4</td>\n",
       "      <td>390</td>\n",
       "      <td>0</td>\n",
       "      <td>1953</td>\n",
       "      <td>0</td>\n",
       "      <td>98118</td>\n",
       "      <td>47.5260</td>\n",
       "      <td>-122.261</td>\n",
       "      <td>2170</td>\n",
       "      <td>6000</td>\n",
       "      <td>5.966147</td>\n",
       "      <td>8.682708</td>\n",
       "      <td>5510</td>\n",
       "      <td>68</td>\n",
       "    </tr>\n",
       "    <tr>\n",
       "      <th>3177</th>\n",
       "      <td>2954400190</td>\n",
       "      <td>20140624T000000</td>\n",
       "      <td>1300000.0</td>\n",
       "      <td>0</td>\n",
       "      <td>0.00</td>\n",
       "      <td>4810</td>\n",
       "      <td>28008</td>\n",
       "      <td>2.0</td>\n",
       "      <td>0</td>\n",
       "      <td>0</td>\n",
       "      <td>3</td>\n",
       "      <td>12</td>\n",
       "      <td>4810</td>\n",
       "      <td>0</td>\n",
       "      <td>1990</td>\n",
       "      <td>0</td>\n",
       "      <td>98053</td>\n",
       "      <td>47.6642</td>\n",
       "      <td>-122.069</td>\n",
       "      <td>4740</td>\n",
       "      <td>35061</td>\n",
       "      <td>8.478452</td>\n",
       "      <td>10.240245</td>\n",
       "      <td>23198</td>\n",
       "      <td>31</td>\n",
       "    </tr>\n",
       "    <tr>\n",
       "      <th>4472</th>\n",
       "      <td>3374500520</td>\n",
       "      <td>20150429T000000</td>\n",
       "      <td>355000.0</td>\n",
       "      <td>0</td>\n",
       "      <td>0.00</td>\n",
       "      <td>2460</td>\n",
       "      <td>8049</td>\n",
       "      <td>2.0</td>\n",
       "      <td>0</td>\n",
       "      <td>0</td>\n",
       "      <td>3</td>\n",
       "      <td>8</td>\n",
       "      <td>2460</td>\n",
       "      <td>0</td>\n",
       "      <td>1990</td>\n",
       "      <td>0</td>\n",
       "      <td>98031</td>\n",
       "      <td>47.4095</td>\n",
       "      <td>-122.168</td>\n",
       "      <td>2520</td>\n",
       "      <td>8050</td>\n",
       "      <td>7.807917</td>\n",
       "      <td>8.993303</td>\n",
       "      <td>5589</td>\n",
       "      <td>31</td>\n",
       "    </tr>\n",
       "    <tr>\n",
       "      <th>4507</th>\n",
       "      <td>7849202190</td>\n",
       "      <td>20141223T000000</td>\n",
       "      <td>235000.0</td>\n",
       "      <td>0</td>\n",
       "      <td>0.00</td>\n",
       "      <td>1470</td>\n",
       "      <td>4800</td>\n",
       "      <td>2.0</td>\n",
       "      <td>0</td>\n",
       "      <td>0</td>\n",
       "      <td>3</td>\n",
       "      <td>7</td>\n",
       "      <td>1470</td>\n",
       "      <td>0</td>\n",
       "      <td>1996</td>\n",
       "      <td>0</td>\n",
       "      <td>98065</td>\n",
       "      <td>47.5265</td>\n",
       "      <td>-121.828</td>\n",
       "      <td>1060</td>\n",
       "      <td>7200</td>\n",
       "      <td>7.293018</td>\n",
       "      <td>8.476371</td>\n",
       "      <td>3330</td>\n",
       "      <td>25</td>\n",
       "    </tr>\n",
       "    <tr>\n",
       "      <th>8338</th>\n",
       "      <td>1222029077</td>\n",
       "      <td>20141029T000000</td>\n",
       "      <td>265000.0</td>\n",
       "      <td>0</td>\n",
       "      <td>0.75</td>\n",
       "      <td>384</td>\n",
       "      <td>213444</td>\n",
       "      <td>1.0</td>\n",
       "      <td>0</td>\n",
       "      <td>0</td>\n",
       "      <td>3</td>\n",
       "      <td>4</td>\n",
       "      <td>384</td>\n",
       "      <td>0</td>\n",
       "      <td>2003</td>\n",
       "      <td>0</td>\n",
       "      <td>98070</td>\n",
       "      <td>47.4177</td>\n",
       "      <td>-122.491</td>\n",
       "      <td>1920</td>\n",
       "      <td>224341</td>\n",
       "      <td>5.950643</td>\n",
       "      <td>12.271130</td>\n",
       "      <td>213060</td>\n",
       "      <td>18</td>\n",
       "    </tr>\n",
       "    <tr>\n",
       "      <th>8840</th>\n",
       "      <td>3980300371</td>\n",
       "      <td>20140926T000000</td>\n",
       "      <td>142000.0</td>\n",
       "      <td>0</td>\n",
       "      <td>0.00</td>\n",
       "      <td>290</td>\n",
       "      <td>20875</td>\n",
       "      <td>1.0</td>\n",
       "      <td>0</td>\n",
       "      <td>0</td>\n",
       "      <td>1</td>\n",
       "      <td>1</td>\n",
       "      <td>290</td>\n",
       "      <td>0</td>\n",
       "      <td>1963</td>\n",
       "      <td>0</td>\n",
       "      <td>98024</td>\n",
       "      <td>47.5308</td>\n",
       "      <td>-121.888</td>\n",
       "      <td>1620</td>\n",
       "      <td>22850</td>\n",
       "      <td>5.669881</td>\n",
       "      <td>9.946308</td>\n",
       "      <td>20585</td>\n",
       "      <td>58</td>\n",
       "    </tr>\n",
       "  </tbody>\n",
       "</table>\n",
       "</div>"
      ],
      "text/plain": [
       "              id             date      price  bedrooms  bathrooms  \\\n",
       "2228  6896300380  20141002T000000   228000.0         0       1.00   \n",
       "3177  2954400190  20140624T000000  1300000.0         0       0.00   \n",
       "4472  3374500520  20150429T000000   355000.0         0       0.00   \n",
       "4507  7849202190  20141223T000000   235000.0         0       0.00   \n",
       "8338  1222029077  20141029T000000   265000.0         0       0.75   \n",
       "8840  3980300371  20140926T000000   142000.0         0       0.00   \n",
       "\n",
       "      sqft_living  sqft_lot  floors  waterfront  view  condition  grade  \\\n",
       "2228          390      5900     1.0           0     0          2      4   \n",
       "3177         4810     28008     2.0           0     0          3     12   \n",
       "4472         2460      8049     2.0           0     0          3      8   \n",
       "4507         1470      4800     2.0           0     0          3      7   \n",
       "8338          384    213444     1.0           0     0          3      4   \n",
       "8840          290     20875     1.0           0     0          1      1   \n",
       "\n",
       "      sqft_above  sqft_basement  yr_built  yr_renovated  zipcode      lat  \\\n",
       "2228         390              0      1953             0    98118  47.5260   \n",
       "3177        4810              0      1990             0    98053  47.6642   \n",
       "4472        2460              0      1990             0    98031  47.4095   \n",
       "4507        1470              0      1996             0    98065  47.5265   \n",
       "8338         384              0      2003             0    98070  47.4177   \n",
       "8840         290              0      1963             0    98024  47.5308   \n",
       "\n",
       "         long  sqft_living15  sqft_lot15  log_sqft_living  log_sqft_lot  \\\n",
       "2228 -122.261           2170        6000         5.966147      8.682708   \n",
       "3177 -122.069           4740       35061         8.478452     10.240245   \n",
       "4472 -122.168           2520        8050         7.807917      8.993303   \n",
       "4507 -121.828           1060        7200         7.293018      8.476371   \n",
       "8338 -122.491           1920      224341         5.950643     12.271130   \n",
       "8840 -121.888           1620       22850         5.669881      9.946308   \n",
       "\n",
       "      Difference in area  No.of years  \n",
       "2228                5510           68  \n",
       "3177               23198           31  \n",
       "4472                5589           31  \n",
       "4507                3330           25  \n",
       "8338              213060           18  \n",
       "8840               20585           58  "
      ]
     },
     "execution_count": 125,
     "metadata": {},
     "output_type": "execute_result"
    }
   ],
   "source": [
    "house.loc[house[\"bedrooms\"] == 0]"
   ]
  },
  {
   "cell_type": "code",
   "execution_count": 127,
   "metadata": {},
   "outputs": [
    {
     "data": {
      "text/html": [
       "<div>\n",
       "<style scoped>\n",
       "    .dataframe tbody tr th:only-of-type {\n",
       "        vertical-align: middle;\n",
       "    }\n",
       "\n",
       "    .dataframe tbody tr th {\n",
       "        vertical-align: top;\n",
       "    }\n",
       "\n",
       "    .dataframe thead th {\n",
       "        text-align: right;\n",
       "    }\n",
       "</style>\n",
       "<table border=\"1\" class=\"dataframe\">\n",
       "  <thead>\n",
       "    <tr style=\"text-align: right;\">\n",
       "      <th></th>\n",
       "      <th>id</th>\n",
       "      <th>date</th>\n",
       "      <th>price</th>\n",
       "      <th>bedrooms</th>\n",
       "      <th>bathrooms</th>\n",
       "      <th>sqft_living</th>\n",
       "      <th>sqft_lot</th>\n",
       "      <th>floors</th>\n",
       "      <th>waterfront</th>\n",
       "      <th>view</th>\n",
       "      <th>condition</th>\n",
       "      <th>grade</th>\n",
       "      <th>sqft_above</th>\n",
       "      <th>sqft_basement</th>\n",
       "      <th>yr_built</th>\n",
       "      <th>yr_renovated</th>\n",
       "      <th>zipcode</th>\n",
       "      <th>lat</th>\n",
       "      <th>long</th>\n",
       "      <th>sqft_living15</th>\n",
       "      <th>sqft_lot15</th>\n",
       "      <th>log_sqft_living</th>\n",
       "      <th>log_sqft_lot</th>\n",
       "      <th>Difference in area</th>\n",
       "      <th>No.of years</th>\n",
       "    </tr>\n",
       "  </thead>\n",
       "  <tbody>\n",
       "    <tr>\n",
       "      <th>1943</th>\n",
       "      <td>2902200015</td>\n",
       "      <td>20150106T000000</td>\n",
       "      <td>700000.0</td>\n",
       "      <td>9</td>\n",
       "      <td>3.00</td>\n",
       "      <td>3680</td>\n",
       "      <td>4400</td>\n",
       "      <td>2.0</td>\n",
       "      <td>0</td>\n",
       "      <td>0</td>\n",
       "      <td>3</td>\n",
       "      <td>7</td>\n",
       "      <td>2830</td>\n",
       "      <td>850</td>\n",
       "      <td>1908</td>\n",
       "      <td>0</td>\n",
       "      <td>98102</td>\n",
       "      <td>47.6374</td>\n",
       "      <td>-122.324</td>\n",
       "      <td>1960</td>\n",
       "      <td>2450</td>\n",
       "      <td>8.210668</td>\n",
       "      <td>8.389360</td>\n",
       "      <td>720</td>\n",
       "      <td>113</td>\n",
       "    </tr>\n",
       "    <tr>\n",
       "      <th>3909</th>\n",
       "      <td>424049043</td>\n",
       "      <td>20140811T000000</td>\n",
       "      <td>450000.0</td>\n",
       "      <td>9</td>\n",
       "      <td>7.50</td>\n",
       "      <td>4050</td>\n",
       "      <td>6504</td>\n",
       "      <td>2.0</td>\n",
       "      <td>0</td>\n",
       "      <td>0</td>\n",
       "      <td>3</td>\n",
       "      <td>7</td>\n",
       "      <td>4050</td>\n",
       "      <td>0</td>\n",
       "      <td>1996</td>\n",
       "      <td>0</td>\n",
       "      <td>98144</td>\n",
       "      <td>47.5923</td>\n",
       "      <td>-122.301</td>\n",
       "      <td>1448</td>\n",
       "      <td>3866</td>\n",
       "      <td>8.306472</td>\n",
       "      <td>8.780173</td>\n",
       "      <td>2454</td>\n",
       "      <td>25</td>\n",
       "    </tr>\n",
       "    <tr>\n",
       "      <th>4011</th>\n",
       "      <td>1773100755</td>\n",
       "      <td>20140821T000000</td>\n",
       "      <td>520000.0</td>\n",
       "      <td>11</td>\n",
       "      <td>3.00</td>\n",
       "      <td>3000</td>\n",
       "      <td>4960</td>\n",
       "      <td>2.0</td>\n",
       "      <td>0</td>\n",
       "      <td>0</td>\n",
       "      <td>3</td>\n",
       "      <td>7</td>\n",
       "      <td>2400</td>\n",
       "      <td>600</td>\n",
       "      <td>1918</td>\n",
       "      <td>1</td>\n",
       "      <td>98106</td>\n",
       "      <td>47.5560</td>\n",
       "      <td>-122.363</td>\n",
       "      <td>1420</td>\n",
       "      <td>4960</td>\n",
       "      <td>8.006368</td>\n",
       "      <td>8.509161</td>\n",
       "      <td>1960</td>\n",
       "      <td>103</td>\n",
       "    </tr>\n",
       "    <tr>\n",
       "      <th>6876</th>\n",
       "      <td>5566100170</td>\n",
       "      <td>20141029T000000</td>\n",
       "      <td>650000.0</td>\n",
       "      <td>10</td>\n",
       "      <td>2.00</td>\n",
       "      <td>3610</td>\n",
       "      <td>11914</td>\n",
       "      <td>2.0</td>\n",
       "      <td>0</td>\n",
       "      <td>0</td>\n",
       "      <td>4</td>\n",
       "      <td>7</td>\n",
       "      <td>3010</td>\n",
       "      <td>600</td>\n",
       "      <td>1958</td>\n",
       "      <td>0</td>\n",
       "      <td>98006</td>\n",
       "      <td>47.5705</td>\n",
       "      <td>-122.175</td>\n",
       "      <td>2040</td>\n",
       "      <td>11914</td>\n",
       "      <td>8.191463</td>\n",
       "      <td>9.385469</td>\n",
       "      <td>8304</td>\n",
       "      <td>63</td>\n",
       "    </tr>\n",
       "    <tr>\n",
       "      <th>7204</th>\n",
       "      <td>2402100895</td>\n",
       "      <td>20140625T000000</td>\n",
       "      <td>640000.0</td>\n",
       "      <td>33</td>\n",
       "      <td>1.75</td>\n",
       "      <td>1620</td>\n",
       "      <td>6000</td>\n",
       "      <td>1.0</td>\n",
       "      <td>0</td>\n",
       "      <td>0</td>\n",
       "      <td>5</td>\n",
       "      <td>7</td>\n",
       "      <td>1040</td>\n",
       "      <td>580</td>\n",
       "      <td>1947</td>\n",
       "      <td>0</td>\n",
       "      <td>98103</td>\n",
       "      <td>47.6878</td>\n",
       "      <td>-122.331</td>\n",
       "      <td>1330</td>\n",
       "      <td>4700</td>\n",
       "      <td>7.390181</td>\n",
       "      <td>8.699515</td>\n",
       "      <td>4380</td>\n",
       "      <td>74</td>\n",
       "    </tr>\n",
       "    <tr>\n",
       "      <th>8363</th>\n",
       "      <td>8823901445</td>\n",
       "      <td>20150313T000000</td>\n",
       "      <td>934000.0</td>\n",
       "      <td>9</td>\n",
       "      <td>3.00</td>\n",
       "      <td>2820</td>\n",
       "      <td>4480</td>\n",
       "      <td>2.0</td>\n",
       "      <td>0</td>\n",
       "      <td>0</td>\n",
       "      <td>3</td>\n",
       "      <td>7</td>\n",
       "      <td>1880</td>\n",
       "      <td>940</td>\n",
       "      <td>1918</td>\n",
       "      <td>0</td>\n",
       "      <td>98105</td>\n",
       "      <td>47.6654</td>\n",
       "      <td>-122.307</td>\n",
       "      <td>2460</td>\n",
       "      <td>4400</td>\n",
       "      <td>7.944492</td>\n",
       "      <td>8.407378</td>\n",
       "      <td>1660</td>\n",
       "      <td>103</td>\n",
       "    </tr>\n",
       "  </tbody>\n",
       "</table>\n",
       "</div>"
      ],
      "text/plain": [
       "              id             date     price  bedrooms  bathrooms  sqft_living  \\\n",
       "1943  2902200015  20150106T000000  700000.0         9       3.00         3680   \n",
       "3909   424049043  20140811T000000  450000.0         9       7.50         4050   \n",
       "4011  1773100755  20140821T000000  520000.0        11       3.00         3000   \n",
       "6876  5566100170  20141029T000000  650000.0        10       2.00         3610   \n",
       "7204  2402100895  20140625T000000  640000.0        33       1.75         1620   \n",
       "8363  8823901445  20150313T000000  934000.0         9       3.00         2820   \n",
       "\n",
       "      sqft_lot  floors  waterfront  view  condition  grade  sqft_above  \\\n",
       "1943      4400     2.0           0     0          3      7        2830   \n",
       "3909      6504     2.0           0     0          3      7        4050   \n",
       "4011      4960     2.0           0     0          3      7        2400   \n",
       "6876     11914     2.0           0     0          4      7        3010   \n",
       "7204      6000     1.0           0     0          5      7        1040   \n",
       "8363      4480     2.0           0     0          3      7        1880   \n",
       "\n",
       "      sqft_basement  yr_built  yr_renovated  zipcode      lat     long  \\\n",
       "1943            850      1908             0    98102  47.6374 -122.324   \n",
       "3909              0      1996             0    98144  47.5923 -122.301   \n",
       "4011            600      1918             1    98106  47.5560 -122.363   \n",
       "6876            600      1958             0    98006  47.5705 -122.175   \n",
       "7204            580      1947             0    98103  47.6878 -122.331   \n",
       "8363            940      1918             0    98105  47.6654 -122.307   \n",
       "\n",
       "      sqft_living15  sqft_lot15  log_sqft_living  log_sqft_lot  \\\n",
       "1943           1960        2450         8.210668      8.389360   \n",
       "3909           1448        3866         8.306472      8.780173   \n",
       "4011           1420        4960         8.006368      8.509161   \n",
       "6876           2040       11914         8.191463      9.385469   \n",
       "7204           1330        4700         7.390181      8.699515   \n",
       "8363           2460        4400         7.944492      8.407378   \n",
       "\n",
       "      Difference in area  No.of years  \n",
       "1943                 720          113  \n",
       "3909                2454           25  \n",
       "4011                1960          103  \n",
       "6876                8304           63  \n",
       "7204                4380           74  \n",
       "8363                1660          103  "
      ]
     },
     "execution_count": 127,
     "metadata": {},
     "output_type": "execute_result"
    }
   ],
   "source": [
    "house.loc[house[\"bedrooms\"] > 8]"
   ]
  },
  {
   "cell_type": "markdown",
   "metadata": {},
   "source": [
    "#### Floors:"
   ]
  },
  {
   "cell_type": "code",
   "execution_count": 11,
   "metadata": {},
   "outputs": [
    {
     "data": {
      "text/plain": [
       "count    9761.000000\n",
       "mean        1.486067\n",
       "std         0.532317\n",
       "min         1.000000\n",
       "25%         1.000000\n",
       "50%         1.500000\n",
       "75%         2.000000\n",
       "max         3.500000\n",
       "Name: floors, dtype: float64"
      ]
     },
     "execution_count": 11,
     "metadata": {},
     "output_type": "execute_result"
    }
   ],
   "source": [
    "# To get all aggregate functions.\n",
    "house[\"floors\"].describe()"
   ]
  },
  {
   "cell_type": "code",
   "execution_count": 12,
   "metadata": {},
   "outputs": [
    {
     "data": {
      "text/plain": [
       "(3.5, -0.5, 1.0)"
      ]
     },
     "execution_count": 12,
     "metadata": {},
     "output_type": "execute_result"
    }
   ],
   "source": [
    "# Outlier analysis\n",
    "\n",
    "# Quartile-3\n",
    "Q3 = house[\"floors\"].quantile(0.75)\n",
    "# Quartile-1\n",
    "Q1 = house[\"floors\"].quantile(0.25)\n",
    "\n",
    "# Inter-quartile range\n",
    "IQR = Q3-Q1\n",
    "\n",
    "# Upper bound after which datapoints are considered Outliers\n",
    "Out1 = Q3 + 1.5*IQR\n",
    "# Lower bound below which datapoints are considered Outliers\n",
    "Out2 = Q1 - 1.5*IQR\n",
    "\n",
    "Out1,Out2,IQR"
   ]
  },
  {
   "cell_type": "markdown",
   "metadata": {},
   "source": [
    "#### Bathrooms:"
   ]
  },
  {
   "cell_type": "code",
   "execution_count": 13,
   "metadata": {},
   "outputs": [
    {
     "data": {
      "text/plain": [
       "count    9761.000000\n",
       "mean        2.117175\n",
       "std         0.773971\n",
       "min         0.000000\n",
       "25%         1.750000\n",
       "50%         2.250000\n",
       "75%         2.500000\n",
       "max         8.000000\n",
       "Name: bathrooms, dtype: float64"
      ]
     },
     "execution_count": 13,
     "metadata": {},
     "output_type": "execute_result"
    }
   ],
   "source": [
    "# To get all aggregate functions.\n",
    "house[\"bathrooms\"].describe()"
   ]
  },
  {
   "cell_type": "code",
   "execution_count": 14,
   "metadata": {},
   "outputs": [
    {
     "data": {
      "text/plain": [
       "(3.625, 0.625, 0.75)"
      ]
     },
     "execution_count": 14,
     "metadata": {},
     "output_type": "execute_result"
    }
   ],
   "source": [
    "# Outlier analysis\n",
    "\n",
    "# Quartile-3\n",
    "Q3 = house[\"bathrooms\"].quantile(0.75)\n",
    "# Quartile-1\n",
    "Q1 = house[\"bathrooms\"].quantile(0.25)\n",
    "\n",
    "# Inter-quartile range\n",
    "IQR = Q3-Q1\n",
    "\n",
    "# Upper bound after which datapoints are considered Outliers\n",
    "Out1 = Q3 + 1.5*IQR\n",
    "# Lower bound below which datapoints are considered Outliers\n",
    "Out2 = Q1 - 1.5*IQR\n",
    "\n",
    "Out1,Out2,IQR"
   ]
  },
  {
   "cell_type": "markdown",
   "metadata": {},
   "source": [
    "#### Waterfront:"
   ]
  },
  {
   "cell_type": "code",
   "execution_count": 15,
   "metadata": {},
   "outputs": [
    {
     "data": {
      "text/plain": [
       "count    9761.000000\n",
       "mean        0.008401\n",
       "std         0.091275\n",
       "min         0.000000\n",
       "25%         0.000000\n",
       "50%         0.000000\n",
       "75%         0.000000\n",
       "max         1.000000\n",
       "Name: waterfront, dtype: float64"
      ]
     },
     "execution_count": 15,
     "metadata": {},
     "output_type": "execute_result"
    }
   ],
   "source": [
    "# To get all aggregate functions.\n",
    "house[\"waterfront\"].describe()"
   ]
  },
  {
   "cell_type": "code",
   "execution_count": 16,
   "metadata": {},
   "outputs": [
    {
     "data": {
      "text/plain": [
       "0    9679\n",
       "1      82\n",
       "Name: waterfront, dtype: int64"
      ]
     },
     "execution_count": 16,
     "metadata": {},
     "output_type": "execute_result"
    }
   ],
   "source": [
    "# Class wise count of houses.\n",
    "house['waterfront'].value_counts()"
   ]
  },
  {
   "cell_type": "markdown",
   "metadata": {},
   "source": [
    "#### View:"
   ]
  },
  {
   "cell_type": "code",
   "execution_count": 17,
   "metadata": {},
   "outputs": [
    {
     "data": {
      "text/plain": [
       "count    9761.000000\n",
       "mean        0.248028\n",
       "std         0.787877\n",
       "min         0.000000\n",
       "25%         0.000000\n",
       "50%         0.000000\n",
       "75%         0.000000\n",
       "max         4.000000\n",
       "Name: view, dtype: float64"
      ]
     },
     "execution_count": 17,
     "metadata": {},
     "output_type": "execute_result"
    }
   ],
   "source": [
    "# To get all aggregate functions.\n",
    "house[\"view\"].describe()"
   ]
  },
  {
   "cell_type": "code",
   "execution_count": 18,
   "metadata": {},
   "outputs": [
    {
     "data": {
      "text/plain": [
       "0    8748\n",
       "2     454\n",
       "3     243\n",
       "1     160\n",
       "4     156\n",
       "Name: view, dtype: int64"
      ]
     },
     "execution_count": 18,
     "metadata": {},
     "output_type": "execute_result"
    }
   ],
   "source": [
    "# Class wise count of houses.\n",
    "house['view'].value_counts()"
   ]
  },
  {
   "cell_type": "markdown",
   "metadata": {},
   "source": [
    "#### Condition:"
   ]
  },
  {
   "cell_type": "code",
   "execution_count": 19,
   "metadata": {},
   "outputs": [
    {
     "data": {
      "text/plain": [
       "count    9761.000000\n",
       "mean        3.415531\n",
       "std         0.650552\n",
       "min         1.000000\n",
       "25%         3.000000\n",
       "50%         3.000000\n",
       "75%         4.000000\n",
       "max         5.000000\n",
       "Name: condition, dtype: float64"
      ]
     },
     "execution_count": 19,
     "metadata": {},
     "output_type": "execute_result"
    }
   ],
   "source": [
    "# To get all aggregate functions.\n",
    "house[\"condition\"].describe()"
   ]
  },
  {
   "cell_type": "code",
   "execution_count": 20,
   "metadata": {},
   "outputs": [
    {
     "data": {
      "text/plain": [
       "3    6291\n",
       "4    2610\n",
       "5     772\n",
       "2      78\n",
       "1      10\n",
       "Name: condition, dtype: int64"
      ]
     },
     "execution_count": 20,
     "metadata": {},
     "output_type": "execute_result"
    }
   ],
   "source": [
    "# Class wise count of houses.\n",
    "house[\"condition\"].value_counts()"
   ]
  },
  {
   "cell_type": "markdown",
   "metadata": {},
   "source": [
    "#### Grade:"
   ]
  },
  {
   "cell_type": "code",
   "execution_count": 21,
   "metadata": {},
   "outputs": [
    {
     "data": {
      "text/plain": [
       "count    9761.00000\n",
       "mean        7.66151\n",
       "std         1.18268\n",
       "min         1.00000\n",
       "25%         7.00000\n",
       "50%         7.00000\n",
       "75%         8.00000\n",
       "max        13.00000\n",
       "Name: grade, dtype: float64"
      ]
     },
     "execution_count": 21,
     "metadata": {},
     "output_type": "execute_result"
    }
   ],
   "source": [
    "# To get all aggregate functions.\n",
    "house[\"grade\"].describe()"
   ]
  },
  {
   "cell_type": "code",
   "execution_count": 22,
   "metadata": {},
   "outputs": [
    {
     "data": {
      "text/plain": [
       "7     4067\n",
       "8     2707\n",
       "9     1192\n",
       "6      914\n",
       "10     532\n",
       "11     172\n",
       "5      107\n",
       "12      45\n",
       "4       17\n",
       "13       7\n",
       "1        1\n",
       "Name: grade, dtype: int64"
      ]
     },
     "execution_count": 22,
     "metadata": {},
     "output_type": "execute_result"
    }
   ],
   "source": [
    "# Class wise count of houses.\n",
    "house[\"grade\"].value_counts()"
   ]
  },
  {
   "cell_type": "markdown",
   "metadata": {},
   "source": [
    "### Bivariate Analysis:   <a id='3' >  </a>"
   ]
  },
  {
   "cell_type": "markdown",
   "metadata": {},
   "source": [
    "#### Relation between Price and Discrete variables:"
   ]
  },
  {
   "cell_type": "code",
   "execution_count": 23,
   "metadata": {},
   "outputs": [
    {
     "data": {
      "image/png": "[encoded data removed]",
      "text/plain": [
       "<Figure size 432x288 with 1 Axes>"
      ]
     },
     "metadata": {
      "needs_background": "light"
     },
     "output_type": "display_data"
    },
    {
     "data": {
      "image/png": "[encoded data removed]",
      "text/plain": [
       "<Figure size 432x288 with 1 Axes>"
      ]
     },
     "metadata": {
      "needs_background": "light"
     },
     "output_type": "display_data"
    },
    {
     "data": {
      "image/png": "[encoded data removed]",
      "text/plain": [
       "<Figure size 432x288 with 1 Axes>"
      ]
     },
     "metadata": {
      "needs_background": "light"
     },
     "output_type": "display_data"
    },
    {
     "data": {
      "image/png": "[encoded data removed]",
      "text/plain": [
       "<Figure size 432x288 with 1 Axes>"
      ]
     },
     "metadata": {
      "needs_background": "light"
     },
     "output_type": "display_data"
    },
    {
     "data": {
      "image/png": "[encoded data removed]",
      "text/plain": [
       "<Figure size 432x288 with 1 Axes>"
      ]
     },
     "metadata": {
      "needs_background": "light"
     },
     "output_type": "display_data"
    },
    {
     "data": {
      "image/png": "[encoded data removed]",
      "text/plain": [
       "<Figure size 432x288 with 1 Axes>"
      ]
     },
     "metadata": {
      "needs_background": "light"
     },
     "output_type": "display_data"
    },
    {
     "data": {
      "image/png": "[encoded data removed]",
      "text/plain": [
       "<Figure size 432x288 with 1 Axes>"
      ]
     },
     "metadata": {
      "needs_background": "light"
     },
     "output_type": "display_data"
    }
   ],
   "source": [
    "for i in Discrete:\n",
    "    sns.barplot(x=house[i],y=house[\"price\"])\n",
    "    plt.show()"
   ]
  },
  {
   "cell_type": "code",
   "execution_count": 24,
   "metadata": {},
   "outputs": [
    {
     "data": {
      "text/plain": [
       "<matplotlib.collections.PathCollection at 0x2d343f4f9a0>"
      ]
     },
     "execution_count": 24,
     "metadata": {},
     "output_type": "execute_result"
    },
    {
     "data": {
      "image/png": "[encoded data removed]",
      "text/plain": [
       "<Figure size 432x288 with 1 Axes>"
      ]
     },
     "metadata": {
      "needs_background": "light"
     },
     "output_type": "display_data"
    }
   ],
   "source": [
    "# A scatter plot between house price and sqft_living\n",
    "plt.scatter(x = house[\"sqft_living\"], y = house[\"price\"])"
   ]
  },
  {
   "cell_type": "code",
   "execution_count": 25,
   "metadata": {},
   "outputs": [
    {
     "data": {
      "text/plain": [
       "<matplotlib.collections.PathCollection at 0x2d343d93580>"
      ]
     },
     "execution_count": 25,
     "metadata": {},
     "output_type": "execute_result"
    },
    {
     "data": {
      "image/png": "[encoded data removed]",
      "text/plain": [
       "<Figure size 432x288 with 1 Axes>"
      ]
     },
     "metadata": {
      "needs_background": "light"
     },
     "output_type": "display_data"
    }
   ],
   "source": [
    "# A scatter plot between house price and sqft_lot\n",
    "plt.scatter(x = house[\"sqft_lot\"], y = house[\"price\"])"
   ]
  },
  {
   "cell_type": "markdown",
   "metadata": {},
   "source": [
    "#### Correlation betwen Price and other variables:"
   ]
  },
  {
   "cell_type": "code",
   "execution_count": 26,
   "metadata": {},
   "outputs": [
    {
     "data": {
      "text/plain": [
       "<AxesSubplot:>"
      ]
     },
     "execution_count": 26,
     "metadata": {},
     "output_type": "execute_result"
    },
    {
     "data": {
      "image/png": "[encoded data removed]",
      "text/plain": [
       "<Figure size 432x288 with 2 Axes>"
      ]
     },
     "metadata": {
      "needs_background": "light"
     },
     "output_type": "display_data"
    }
   ],
   "source": [
    "# Heat map which gives correlation between pairs of Continuous variables along with price\n",
    "sns.heatmap(house[[\"price\"]+Continuous].corr(),annot=True)"
   ]
  },
  {
   "cell_type": "code",
   "execution_count": 27,
   "metadata": {},
   "outputs": [
    {
     "data": {
      "text/plain": [
       "<AxesSubplot:>"
      ]
     },
     "execution_count": 27,
     "metadata": {},
     "output_type": "execute_result"
    },
    {
     "data": {
      "image/png": "[encoded data removed]",
      "text/plain": [
       "<Figure size 432x288 with 2 Axes>"
      ]
     },
     "metadata": {
      "needs_background": "light"
     },
     "output_type": "display_data"
    }
   ],
   "source": [
    "# Heat map which gives correlation between pairs of Discrete variables along with price\n",
    "sns.heatmap(house[[\"price\"] + Discrete].corr(), annot=True)"
   ]
  },
  {
   "cell_type": "markdown",
   "metadata": {},
   "source": [
    "#### Observations based on EDA:    <a id='4' >  </a>"
   ]
  },
  {
   "cell_type": "markdown",
   "metadata": {},
   "source": [
    "1. Based on the heatmap it can be seen that there is a strong positive correlation between Price and sqft_living, sqft_above, sqft_living15, bathrooms, grade.\n",
    "\n",
    "\n",
    "2. From the barplots it is evident that view, bedrooms, floors, waterfront have do impact price of the house.\n",
    "\n",
    "\n",
    "3. As opposed to our hypothesis earlier, sqft_lot has a weak correlation with price of the house.\n",
    "\n",
    "\n",
    "4. Price of houses did not consistently increase with the Condition of the house.\n",
    "\n",
    "\n",
    "5. sqft_basement and bedrooms had relatively lesser correlation with price when compared to sqft_above and bathrooms respectively."
   ]
  },
  {
   "cell_type": "markdown",
   "metadata": {},
   "source": [
    "## 3) Initial model fitting step    <a id='5' >  </a>"
   ]
  },
  {
   "cell_type": "markdown",
   "metadata": {},
   "source": [
    "In this step we fit Linear Regression model on two sets of predictors which we feel play significant role in deciding price of the house.\n",
    "\n",
    "\n",
    "For **Model-1** variables with strong positive correlation with price are selected as predictors.\n",
    "\n",
    "Model - 1:   Predictors $ X_{1} $ = house[ [ \"bathrooms\", \"grade\", \"sqft_living\", \"sqft_above\", \"sqft_living15\" ] ]\n",
    "\n",
    "   Target variable     $ y_{1} $ = house[\"price\"]\n",
    "   \n",
    "For **Model-2** variables with significant correlation with price are selected as predictors.\n",
    "\n",
    "\n",
    "Model - 2:   Predictors $ X_{2} $ = house[ [ \"bedrooms\", \"bathrooms\", \"floors\", \"waterfront\", \"view\", \"grade\", \"sqft_living\", \"sqft_living15\", \"sqft_above\", \"sqft_basement\" ] ]\n",
    "\n",
    "Target variable        $ y_{2} $ = house[\"price\"]"
   ]
  },
  {
   "cell_type": "markdown",
   "metadata": {},
   "source": [
    "### Model-1:                <a id='6' >  </a>"
   ]
  },
  {
   "cell_type": "code",
   "execution_count": 28,
   "metadata": {},
   "outputs": [],
   "source": [
    "# List of features\n",
    "X1 = house[[\"bathrooms\",\"grade\",\"sqft_living\",\"sqft_above\",\"sqft_living15\"]]\n",
    "\n",
    "# Target variable\n",
    "y1 = house[\"price\"]"
   ]
  },
  {
   "cell_type": "code",
   "execution_count": 29,
   "metadata": {},
   "outputs": [],
   "source": [
    "# Standardisation to bring all variables on the same scale with mean 0 and std 1.\n",
    "X_train1 = (X1 - np.mean(X1))/(np.std(X1))\n",
    "y_train1 = y1"
   ]
  },
  {
   "cell_type": "code",
   "execution_count": 31,
   "metadata": {},
   "outputs": [],
   "source": [
    "# Linear Regression object\n",
    "model = LinearRegression()"
   ]
  },
  {
   "cell_type": "code",
   "execution_count": 32,
   "metadata": {},
   "outputs": [
    {
     "data": {
      "text/plain": [
       "{'fit_time': array([1.44606495, 0.        , 0.01201105, 0.00729012, 0.00692201,\n",
       "        0.        , 0.        , 0.        , 0.        , 0.        ]),\n",
       " 'score_time': array([0.01771355, 0.02114391, 0.00920081, 0.00805378, 0.        ,\n",
       "        0.01655149, 0.        , 0.        , 0.01665974, 0.        ]),\n",
       " 'test_r2': array([0.5184046 , 0.55770171, 0.5043738 , 0.56497332, 0.46868089,\n",
       "        0.52962264, 0.55828268, 0.5381245 , 0.5595291 , 0.56791205]),\n",
       " 'test_neg_root_mean_squared_error': array([-254920.39952512, -277577.9077014 , -220612.6174847 ,\n",
       "        -301256.32076282, -277823.81634856, -256584.52112184,\n",
       "        -223414.33483467, -252570.86923273, -255660.53679381,\n",
       "        -243871.20199327])}"
      ]
     },
     "execution_count": 32,
     "metadata": {},
     "output_type": "execute_result"
    }
   ],
   "source": [
    "# 10-fold Cross validation with R2 and RMSE as scoring metrics\n",
    "val_score1 = cross_validate(model, X_train1, y_train1, cv = 10, \n",
    "                            scoring=[\"r2\",\"neg_root_mean_squared_error\"])\n",
    "\n",
    "val_score1"
   ]
  },
  {
   "cell_type": "code",
   "execution_count": 33,
   "metadata": {},
   "outputs": [
    {
     "data": {
      "text/plain": [
       "(0.5367605284823294, -256429.25257989197)"
      ]
     },
     "execution_count": 33,
     "metadata": {},
     "output_type": "execute_result"
    }
   ],
   "source": [
    "# R2 and RMSE of 10-fold cross validation\n",
    "val_score1[\"test_r2\"].mean() , val_score1[\"test_neg_root_mean_squared_error\"].mean()"
   ]
  },
  {
   "cell_type": "markdown",
   "metadata": {},
   "source": [
    "Model - 1 returned an $ R^{2} $ value of 0.5367 and an RMSE value of -256429.252. So the model is % accurate."
   ]
  },
  {
   "cell_type": "markdown",
   "metadata": {},
   "source": [
    "### Model-2:                     <a id='7' >  </a>"
   ]
  },
  {
   "cell_type": "code",
   "execution_count": 34,
   "metadata": {},
   "outputs": [],
   "source": [
    "# List of features\n",
    "X2 = house[[\"bedrooms\",\"bathrooms\",\"floors\",\"waterfront\",\"view\",\"grade\",\"sqft_living\",\"sqft_living15\",\"sqft_above\",\n",
    "            \"sqft_basement\"]]\n",
    "\n",
    "# Target variable\n",
    "y2 = house[\"price\"]"
   ]
  },
  {
   "cell_type": "code",
   "execution_count": 35,
   "metadata": {},
   "outputs": [],
   "source": [
    "# Standardisation to bring all variables on the same scale with mean 0 and std 1.\n",
    "X_train2 = (X2 - np.mean(X2))/(np.std(X2))\n",
    "y_train2 = y2"
   ]
  },
  {
   "cell_type": "code",
   "execution_count": 36,
   "metadata": {},
   "outputs": [],
   "source": [
    "# Linear Regression object\n",
    "model = LinearRegression()"
   ]
  },
  {
   "cell_type": "code",
   "execution_count": 37,
   "metadata": {},
   "outputs": [
    {
     "data": {
      "text/plain": [
       "{'fit_time': array([0.00965142, 0.00099611, 0.00861621, 0.0091188 , 0.00202417,\n",
       "        0.00760293, 0.        , 0.0057857 , 0.00663543, 0.00801396]),\n",
       " 'score_time': array([0.00199485, 0.00801325, 0.        , 0.00572133, 0.        ,\n",
       "        0.        , 0.00984669, 0.        , 0.00099778, 0.00486016]),\n",
       " 'test_r2': array([0.58191145, 0.64511876, 0.53327484, 0.6334124 , 0.50514853,\n",
       "        0.57623191, 0.60356204, 0.59660983, 0.59740306, 0.61509133]),\n",
       " 'test_neg_root_mean_squared_error': array([-237518.56585005, -248638.73746398, -214083.80874301,\n",
       "        -276545.82394894, -268119.9848544 , -243540.60216528,\n",
       "        -211653.97766083, -236038.82897782, -244422.01479065,\n",
       "        -230172.4207536 ])}"
      ]
     },
     "execution_count": 37,
     "metadata": {},
     "output_type": "execute_result"
    }
   ],
   "source": [
    "# 10-fold Cross validation with R2 and RMSE as scoring metrics\n",
    "val_score2 = cross_validate(model, X_train2, y_train2, cv = 10, \n",
    "                            scoring=[\"r2\",\"neg_root_mean_squared_error\"])\n",
    "\n",
    "val_score2"
   ]
  },
  {
   "cell_type": "code",
   "execution_count": 38,
   "metadata": {},
   "outputs": [
    {
     "data": {
      "text/plain": [
       "(0.588776415894342, -241073.4765208569)"
      ]
     },
     "execution_count": 38,
     "metadata": {},
     "output_type": "execute_result"
    }
   ],
   "source": [
    "# R2 and RMSE of 10-fold cross validation\n",
    "val_score2[\"test_r2\"].mean() , val_score2[\"test_neg_root_mean_squared_error\"].mean()"
   ]
  },
  {
   "cell_type": "markdown",
   "metadata": {},
   "source": [
    "\\begin{equation}\n",
    " adjustedR^{2} = 1 - \\dfrac{(1 - R^{2})(n-1)}{(n-p-1)} \n",
    "\\end{equation}\n",
    "\n",
    "where n is sample size and p is no.of independent variables."
   ]
  },
  {
   "cell_type": "code",
   "execution_count": 40,
   "metadata": {},
   "outputs": [
    {
     "data": {
      "text/plain": [
       "0.5883546481157722"
      ]
     },
     "execution_count": 40,
     "metadata": {},
     "output_type": "execute_result"
    }
   ],
   "source": [
    "# Adjusted R2\n",
    "n = len(X_train2)   # Sample size\n",
    "p = len(X2.columns) # No.of columns in training data\n",
    "\n",
    "adj_r2 = 1-(1-val_score2[\"test_r2\"].mean())*(n-1)/(n-p-1)\n",
    "\n",
    "adj_r2"
   ]
  },
  {
   "cell_type": "markdown",
   "metadata": {},
   "source": [
    "Model - 2 returned an $ R^{2} $ value of 0.5887 and an RMSE value of -241073.476. So the model is 58.88 % accurate. One can also notice an increase in $ R^{2} $ value and a decrease in RMSE value when compared to Model 1 as more positively correlated variables are incorporated into the set of predictors. The efficiency of newly added predictors is confirmed by adjusted $ R^{2} $ value."
   ]
  },
  {
   "cell_type": "markdown",
   "metadata": {},
   "source": [
    "## 4) Feature engineering                <a id='8' >  </a>"
   ]
  },
  {
   "cell_type": "markdown",
   "metadata": {},
   "source": [
    "### A. Feature Transformations                  <a id='9' >  </a>"
   ]
  },
  {
   "cell_type": "code",
   "execution_count": 41,
   "metadata": {},
   "outputs": [
    {
     "data": {
      "text/plain": [
       "0.09414550486097559"
      ]
     },
     "execution_count": 41,
     "metadata": {},
     "output_type": "execute_result"
    }
   ],
   "source": [
    "# Correlation between price and sqft_lot\n",
    "house[\"price\"].corr(house[\"sqft_lot\"])"
   ]
  },
  {
   "cell_type": "code",
   "execution_count": 42,
   "metadata": {},
   "outputs": [
    {
     "data": {
      "text/plain": [
       "0.16961185708413776"
      ]
     },
     "execution_count": 42,
     "metadata": {},
     "output_type": "execute_result"
    }
   ],
   "source": [
    "# Change in Correlation between price and log(sqft_lot)\n",
    "house[\"price\"].corr(np.log(house[\"sqft_lot\"]))"
   ]
  },
  {
   "cell_type": "code",
   "execution_count": 43,
   "metadata": {},
   "outputs": [
    {
     "data": {
      "text/plain": [
       "<matplotlib.collections.PathCollection at 0x2d34302f310>"
      ]
     },
     "execution_count": 43,
     "metadata": {},
     "output_type": "execute_result"
    },
    {
     "data": {
      "image/png": "[encoded data removed]",
      "text/plain": [
       "<Figure size 432x288 with 1 Axes>"
      ]
     },
     "metadata": {
      "needs_background": "light"
     },
     "output_type": "display_data"
    }
   ],
   "source": [
    "# Scatter plot between log(sqft_lot) and price\n",
    "plt.scatter(x = np.log(house[\"sqft_lot\"]), y = house[\"price\"])"
   ]
  },
  {
   "cell_type": "code",
   "execution_count": 44,
   "metadata": {},
   "outputs": [
    {
     "data": {
      "text/plain": [
       "<matplotlib.collections.PathCollection at 0x2d343246310>"
      ]
     },
     "execution_count": 44,
     "metadata": {},
     "output_type": "execute_result"
    },
    {
     "data": {
      "image/png": "[encoded data removed]",
      "text/plain": [
       "<Figure size 432x288 with 1 Axes>"
      ]
     },
     "metadata": {
      "needs_background": "light"
     },
     "output_type": "display_data"
    }
   ],
   "source": [
    "# Scatter plot between log(sqft_living) and price\n",
    "plt.scatter(x = np.log(house[\"sqft_living\"]), y = house[\"price\"])"
   ]
  },
  {
   "cell_type": "code",
   "execution_count": 45,
   "metadata": {},
   "outputs": [],
   "source": [
    "# Adding new column log_sqft_living to the dataframe\n",
    "house[\"log_sqft_living\"] = np.log(house[\"sqft_living\"])"
   ]
  },
  {
   "cell_type": "code",
   "execution_count": 46,
   "metadata": {},
   "outputs": [],
   "source": [
    "# Adding new column log_sqft_lot to the dataframe\n",
    "house[\"log_sqft_lot\"] = np.log(house[\"sqft_lot\"])"
   ]
  },
  {
   "cell_type": "code",
   "execution_count": 47,
   "metadata": {},
   "outputs": [],
   "source": [
    "# Adding new column Difference in area which is difference between sqft_lot and sqft_living to the dataframe\n",
    "house[\"Difference in area\"] = house[\"sqft_lot\"] - house[\"sqft_living\"]"
   ]
  },
  {
   "cell_type": "code",
   "execution_count": 48,
   "metadata": {},
   "outputs": [
    {
     "name": "stderr",
     "output_type": "stream",
     "text": [
      "<ipython-input-48-0d7e8426a078>:2: SettingWithCopyWarning: \n",
      "A value is trying to be set on a copy of a slice from a DataFrame\n",
      "\n",
      "See the caveats in the documentation: https://pandas.pydata.org/pandas-docs/stable/user_guide/indexing.html#returning-a-view-versus-a-copy\n",
      "  house[\"yr_renovated\"][house[\"yr_renovated\"]>0]=1\n"
     ]
    }
   ],
   "source": [
    "# Converting yr_renovated column to a binary categorical variable\n",
    "house[\"yr_renovated\"][house[\"yr_renovated\"]>0]=1"
   ]
  },
  {
   "cell_type": "markdown",
   "metadata": {},
   "source": [
    "**Testing Linear Regression model by adding transformed features:**"
   ]
  },
  {
   "cell_type": "markdown",
   "metadata": {},
   "source": [
    "**1. sqft_living is replaced with log_sqft_living and a new variable log_sqft_lot is added to predictor set**"
   ]
  },
  {
   "cell_type": "code",
   "execution_count": 49,
   "metadata": {},
   "outputs": [],
   "source": [
    "# List of features\n",
    "X3 = house[[\"bedrooms\",\"bathrooms\",\"floors\",\"waterfront\",\"view\",\"grade\",\"log_sqft_living\",\"sqft_living15\",\"sqft_above\",\n",
    "           \"log_sqft_lot\",\"sqft_basement\"]]\n",
    "\n",
    "# Target variable\n",
    "y3 = house[\"price\"]"
   ]
  },
  {
   "cell_type": "code",
   "execution_count": 50,
   "metadata": {},
   "outputs": [],
   "source": [
    "# Standardisation to bring all variables on the same scale with mean 0 and std 1.\n",
    "X_train3 = (X3 - np.mean(X3))/(np.std(X3))\n",
    "y_train3 = y3"
   ]
  },
  {
   "cell_type": "code",
   "execution_count": 51,
   "metadata": {},
   "outputs": [],
   "source": [
    "# Linear Regression object\n",
    "model = LinearRegression()"
   ]
  },
  {
   "cell_type": "code",
   "execution_count": 52,
   "metadata": {},
   "outputs": [
    {
     "data": {
      "text/plain": [
       "{'fit_time': array([0.00634432, 0.00801063, 0.        , 0.00867367, 0.        ,\n",
       "        0.00767803, 0.00801158, 0.01338291, 0.00655675, 0.0070703 ]),\n",
       " 'score_time': array([0.00792551, 0.00859404, 0.00800991, 0.        , 0.0090971 ,\n",
       "        0.        , 0.        , 0.00594068, 0.        , 0.00446463]),\n",
       " 'test_r2': array([0.62583998, 0.68262067, 0.56644375, 0.71796638, 0.59596699,\n",
       "        0.62341207, 0.63836797, 0.63314485, 0.64850717, 0.61582068]),\n",
       " 'test_neg_root_mean_squared_error': array([-224694.33182351, -235134.62501592, -206336.44392003,\n",
       "        -242565.29434862, -242270.3016292 , -229583.37902182,\n",
       "        -202149.31029965, -225096.16972532, -228382.76148938,\n",
       "        -229954.24679737])}"
      ]
     },
     "execution_count": 52,
     "metadata": {},
     "output_type": "execute_result"
    }
   ],
   "source": [
    "# 10-fold Cross validation with R2 and RMSE as scoring metrics\n",
    "val_score3 = cross_validate(model, X_train3, y_train3, cv = 10, scoring=[\"r2\",\"neg_root_mean_squared_error\"])\n",
    "\n",
    "val_score3"
   ]
  },
  {
   "cell_type": "code",
   "execution_count": 53,
   "metadata": {},
   "outputs": [
    {
     "data": {
      "text/plain": [
       "(0.6348090515734187, -226616.68640708114)"
      ]
     },
     "execution_count": 53,
     "metadata": {},
     "output_type": "execute_result"
    }
   ],
   "source": [
    "# R2 and RMSE of 10-fold cross validation\n",
    "val_score3[\"test_r2\"].mean() , val_score3[\"test_neg_root_mean_squared_error\"].mean()"
   ]
  },
  {
   "cell_type": "code",
   "execution_count": 54,
   "metadata": {},
   "outputs": [
    {
     "data": {
      "text/plain": [
       "0.6343969990108285"
      ]
     },
     "execution_count": 54,
     "metadata": {},
     "output_type": "execute_result"
    }
   ],
   "source": [
    "# Adjusted R2\n",
    "n = len(X_train3)   # Sample size\n",
    "p = len(X3.columns) # No.of columns in training data\n",
    "\n",
    "adj_r2 = 1-(1-val_score3[\"test_r2\"].mean())*(n-1)/(n-p-1)\n",
    "\n",
    "adj_r2"
   ]
  },
  {
   "cell_type": "markdown",
   "metadata": {},
   "source": [
    "**2. Modified yr_renovated variable is added to the set of predictors.**"
   ]
  },
  {
   "cell_type": "code",
   "execution_count": 55,
   "metadata": {},
   "outputs": [],
   "source": [
    "# List of features\n",
    "X4 = house[[\"bedrooms\",\"bathrooms\",\"floors\",\"waterfront\",\"view\",\"grade\",\"log_sqft_living\",\"sqft_living15\",\"sqft_above\",\n",
    "           \"log_sqft_lot\",\"sqft_basement\",\"yr_renovated\"]]\n",
    "\n",
    "# Target variable\n",
    "y4 = house[\"price\"]"
   ]
  },
  {
   "cell_type": "code",
   "execution_count": 56,
   "metadata": {},
   "outputs": [],
   "source": [
    "# Standardisation to bring all variables on the same scale with mean 0 and std 1.\n",
    "X_train4 = (X4 - np.mean(X4))/(np.std(X4))\n",
    "y_train4 = y4"
   ]
  },
  {
   "cell_type": "code",
   "execution_count": 57,
   "metadata": {},
   "outputs": [],
   "source": [
    "# Linear Regression object\n",
    "model = LinearRegression()"
   ]
  },
  {
   "cell_type": "code",
   "execution_count": 58,
   "metadata": {},
   "outputs": [
    {
     "data": {
      "text/plain": [
       "{'fit_time': array([0.01053238, 0.00100207, 0.        , 0.00760269, 0.        ,\n",
       "        0.01195312, 0.00570703, 0.01092243, 0.01077485, 0.00800085]),\n",
       " 'score_time': array([0.00807953, 0.00769663, 0.00815129, 0.00364566, 0.        ,\n",
       "        0.        , 0.        , 0.        , 0.00705218, 0.        ]),\n",
       " 'test_r2': array([0.62875035, 0.68585222, 0.57283667, 0.72493257, 0.60321501,\n",
       "        0.63129196, 0.64354079, 0.63532991, 0.65101837, 0.61885049]),\n",
       " 'test_neg_root_mean_squared_error': array([-223818.74351833, -233934.49350339, -204809.54812605,\n",
       "        -239550.89826452, -240087.40172036, -227168.73162556,\n",
       "        -200698.32076199, -224424.81225207, -227565.46960802,\n",
       "        -229045.6910737 ])}"
      ]
     },
     "execution_count": 58,
     "metadata": {},
     "output_type": "execute_result"
    }
   ],
   "source": [
    "# 10-fold Cross validation with R2 and RMSE as scoring metrics\n",
    "val_score4 = cross_validate(model, X_train4, y_train4, cv = 10, scoring=[\"r2\",\"neg_root_mean_squared_error\"])\n",
    "\n",
    "val_score4"
   ]
  },
  {
   "cell_type": "code",
   "execution_count": 59,
   "metadata": {},
   "outputs": [
    {
     "data": {
      "text/plain": [
       "(0.6395618346268603, -225110.41104540034)"
      ]
     },
     "execution_count": 59,
     "metadata": {},
     "output_type": "execute_result"
    }
   ],
   "source": [
    "# R2 and RMSE of 10-fold cross validation\n",
    "val_score4[\"test_r2\"].mean() , val_score4[\"test_neg_root_mean_squared_error\"].mean()"
   ]
  },
  {
   "cell_type": "code",
   "execution_count": 60,
   "metadata": {},
   "outputs": [
    {
     "data": {
      "text/plain": [
       "0.6391181274064585"
      ]
     },
     "execution_count": 60,
     "metadata": {},
     "output_type": "execute_result"
    }
   ],
   "source": [
    "# Adjusted R2\n",
    "n = len(X_train4)          # Sample size\n",
    "p = len(X4.columns)        # No.of columns in training data\n",
    "\n",
    "adj_r2 = 1-(1-val_score4[\"test_r2\"].mean())*(n-1)/(n-p-1)\n",
    "\n",
    "adj_r2"
   ]
  },
  {
   "cell_type": "markdown",
   "metadata": {},
   "source": [
    "**3. Difference in area is added to predictor set.**"
   ]
  },
  {
   "cell_type": "code",
   "execution_count": 61,
   "metadata": {},
   "outputs": [],
   "source": [
    "# List of features\n",
    "X5 = house[[\"bedrooms\",\"bathrooms\",\"floors\",\"waterfront\",\"view\",\"grade\",\"log_sqft_living\",\"sqft_living15\",\"sqft_above\",\n",
    "           \"log_sqft_lot\",\"sqft_basement\",\"yr_renovated\",\"Difference in area\"]]\n",
    "\n",
    "# Target variable\n",
    "y5 = house[\"price\"]"
   ]
  },
  {
   "cell_type": "code",
   "execution_count": 62,
   "metadata": {},
   "outputs": [],
   "source": [
    "# Standardisation to bring all variables on the same scale with mean 0 and std 1.\n",
    "X_train5 = (X5 - np.mean(X5))/(np.std(X5))\n",
    "y_train5 = y5"
   ]
  },
  {
   "cell_type": "code",
   "execution_count": 63,
   "metadata": {},
   "outputs": [],
   "source": [
    "# Linear Regression object\n",
    "model = LinearRegression()"
   ]
  },
  {
   "cell_type": "code",
   "execution_count": 64,
   "metadata": {},
   "outputs": [
    {
     "data": {
      "text/plain": [
       "{'fit_time': array([0.0054698 , 0.00799036, 0.00911736, 0.00760841, 0.00801158,\n",
       "        0.00971746, 0.00847816, 0.00703669, 0.01566339, 0.        ]),\n",
       " 'score_time': array([0.00852919, 0.        , 0.        , 0.        , 0.        ,\n",
       "        0.        , 0.        , 0.        , 0.00099635, 0.        ]),\n",
       " 'test_r2': array([0.63172765, 0.68587217, 0.57696018, 0.7261428 , 0.60445703,\n",
       "        0.63337216, 0.64546955, 0.63516291, 0.65282122, 0.61206757]),\n",
       " 'test_neg_root_mean_squared_error': array([-222919.46038008, -233927.06781122, -203818.61257226,\n",
       "        -239023.33431376, -239711.34446479, -226526.99599482,\n",
       "        -200154.60758961, -224476.19342024, -226976.90351778,\n",
       "        -231074.74600125])}"
      ]
     },
     "execution_count": 64,
     "metadata": {},
     "output_type": "execute_result"
    }
   ],
   "source": [
    "# 10-fold Cross validation with R2 and RMSE as scoring metrics\n",
    "val_score5 = cross_validate(model, X_train5, y_train5, cv = 10, scoring=[\"r2\",\"neg_root_mean_squared_error\"])\n",
    "\n",
    "val_score5"
   ]
  },
  {
   "cell_type": "code",
   "execution_count": 65,
   "metadata": {},
   "outputs": [
    {
     "data": {
      "text/plain": [
       "(0.6404053251956473, -224860.92660658038)"
      ]
     },
     "execution_count": 65,
     "metadata": {},
     "output_type": "execute_result"
    }
   ],
   "source": [
    "# R2 and RMSE of 10-fold cross validation\n",
    "val_score5[\"test_r2\"].mean() , val_score5[\"test_neg_root_mean_squared_error\"].mean()"
   ]
  },
  {
   "cell_type": "markdown",
   "metadata": {},
   "source": [
    "### It can be noted there's not much increase in adjusted $R^{2}$ when compared to earlier predictor set. Therefore the new predictor Difference in area can be omitted."
   ]
  },
  {
   "cell_type": "code",
   "execution_count": 66,
   "metadata": {},
   "outputs": [
    {
     "data": {
      "text/plain": [
       "0.6399257180578144"
      ]
     },
     "execution_count": 66,
     "metadata": {},
     "output_type": "execute_result"
    }
   ],
   "source": [
    "# Adjusted R2\n",
    "n = len(X_train5)       # Sample size\n",
    "p = len(X5.columns)     # No.of columns in training data\n",
    "\n",
    "adj_r2 = 1-(1-val_score5[\"test_r2\"].mean())*(n-1)/(n-p-1)\n",
    "\n",
    "adj_r2"
   ]
  },
  {
   "cell_type": "markdown",
   "metadata": {},
   "source": [
    "### B. New Feature Generation           <a id='10' >  </a>"
   ]
  },
  {
   "cell_type": "code",
   "execution_count": 67,
   "metadata": {},
   "outputs": [],
   "source": [
    "# A new column \"No.of years\" is added to the dataframe which gives the age of the house.\n",
    "house[\"No.of years\"] = 2021 - house[\"yr_built\"]"
   ]
  },
  {
   "cell_type": "markdown",
   "metadata": {},
   "source": [
    "**4. yr_built is changed into age of house and added to predictor set.**"
   ]
  },
  {
   "cell_type": "code",
   "execution_count": 68,
   "metadata": {},
   "outputs": [],
   "source": [
    "# List of features\n",
    "X6 = house[[\"bedrooms\",\"bathrooms\",\"floors\",\"waterfront\",\"view\",\"grade\",\"log_sqft_living\",\"sqft_living15\",\"sqft_above\",\n",
    "           \"log_sqft_lot\",\"sqft_basement\",\"yr_renovated\",\"No.of years\"]]\n",
    "\n",
    "# Target variable\n",
    "y6 = house[\"price\"]"
   ]
  },
  {
   "cell_type": "code",
   "execution_count": 70,
   "metadata": {},
   "outputs": [],
   "source": [
    "# Standardisation to bring all variables on the same scale with mean 0 and std 1.\n",
    "X_train6 = (X6 - np.mean(X6))/(np.std(X6))\n",
    "y_train6 = y6"
   ]
  },
  {
   "cell_type": "code",
   "execution_count": 71,
   "metadata": {},
   "outputs": [],
   "source": [
    "# Linear Regression object\n",
    "model = LinearRegression()"
   ]
  },
  {
   "cell_type": "code",
   "execution_count": 72,
   "metadata": {},
   "outputs": [
    {
     "data": {
      "text/plain": [
       "{'fit_time': array([0.00671768, 0.        , 0.0085423 , 0.00801277, 0.00362921,\n",
       "        0.00776863, 0.00800943, 0.00297856, 0.00801563, 0.00956893]),\n",
       " 'score_time': array([0.00692987, 0.00820494, 0.        , 0.00649858, 0.00534129,\n",
       "        0.        , 0.        , 0.        , 0.        , 0.        ]),\n",
       " 'test_r2': array([0.6629998 , 0.73297207, 0.64000812, 0.75995265, 0.64662938,\n",
       "        0.68516064, 0.69875964, 0.67652633, 0.69070086, 0.64233903]),\n",
       " 'test_neg_root_mean_squared_error': array([-213244.82949801, -215677.88433272, -188018.0618276 ,\n",
       "        -223782.78683659, -226572.3824021 , -209919.00464599,\n",
       "        -184499.58739017, -211368.50071333, -214236.97980784,\n",
       "        -221875.94327263])}"
      ]
     },
     "execution_count": 72,
     "metadata": {},
     "output_type": "execute_result"
    }
   ],
   "source": [
    "# 10-fold Cross validation with R2 and RMSE as scoring metrics\n",
    "val_score6 = cross_validate(model, X_train6, y_train6, cv = 10, scoring=[\"r2\",\"neg_root_mean_squared_error\"])\n",
    "\n",
    "val_score6"
   ]
  },
  {
   "cell_type": "code",
   "execution_count": 73,
   "metadata": {},
   "outputs": [
    {
     "data": {
      "text/plain": [
       "(0.6836048513930923, -210919.59607269862)"
      ]
     },
     "execution_count": 73,
     "metadata": {},
     "output_type": "execute_result"
    }
   ],
   "source": [
    "# R2 and RMSE of 10-fold cross validation\n",
    "val_score6[\"test_r2\"].mean() , val_score6[\"test_neg_root_mean_squared_error\"].mean()"
   ]
  },
  {
   "cell_type": "code",
   "execution_count": 74,
   "metadata": {},
   "outputs": [
    {
     "data": {
      "text/plain": [
       "0.6831828613518602"
      ]
     },
     "execution_count": 74,
     "metadata": {},
     "output_type": "execute_result"
    }
   ],
   "source": [
    "# Adjusted R2\n",
    "n = len(X_train6)             # Sample size\n",
    "p = len(X6.columns)           # No.of columns in training data\n",
    "\n",
    "adj_r2 = 1-(1-val_score6[\"test_r2\"].mean())*(n-1)/(n-p-1)\n",
    "\n",
    "adj_r2"
   ]
  },
  {
   "cell_type": "markdown",
   "metadata": {},
   "source": [
    "**One-hot encoding:**\n",
    "\n",
    "Each zipcode is assigned as a dummy variable, which gives 70 additional columns of 0s and 1s."
   ]
  },
  {
   "cell_type": "code",
   "execution_count": 75,
   "metadata": {},
   "outputs": [
    {
     "data": {
      "text/html": [
       "<div>\n",
       "<style scoped>\n",
       "    .dataframe tbody tr th:only-of-type {\n",
       "        vertical-align: middle;\n",
       "    }\n",
       "\n",
       "    .dataframe tbody tr th {\n",
       "        vertical-align: top;\n",
       "    }\n",
       "\n",
       "    .dataframe thead th {\n",
       "        text-align: right;\n",
       "    }\n",
       "</style>\n",
       "<table border=\"1\" class=\"dataframe\">\n",
       "  <thead>\n",
       "    <tr style=\"text-align: right;\">\n",
       "      <th></th>\n",
       "      <th>id</th>\n",
       "      <th>date</th>\n",
       "      <th>price</th>\n",
       "      <th>bedrooms</th>\n",
       "      <th>bathrooms</th>\n",
       "      <th>sqft_living</th>\n",
       "      <th>sqft_lot</th>\n",
       "      <th>floors</th>\n",
       "      <th>waterfront</th>\n",
       "      <th>view</th>\n",
       "      <th>condition</th>\n",
       "      <th>grade</th>\n",
       "      <th>sqft_above</th>\n",
       "      <th>sqft_basement</th>\n",
       "      <th>yr_built</th>\n",
       "      <th>yr_renovated</th>\n",
       "      <th>zipcode</th>\n",
       "      <th>lat</th>\n",
       "      <th>long</th>\n",
       "      <th>sqft_living15</th>\n",
       "      <th>sqft_lot15</th>\n",
       "      <th>log_sqft_living</th>\n",
       "      <th>log_sqft_lot</th>\n",
       "      <th>Difference in area</th>\n",
       "      <th>No.of years</th>\n",
       "      <th>0</th>\n",
       "      <th>1</th>\n",
       "      <th>2</th>\n",
       "      <th>3</th>\n",
       "      <th>4</th>\n",
       "      <th>5</th>\n",
       "      <th>6</th>\n",
       "      <th>7</th>\n",
       "      <th>8</th>\n",
       "      <th>9</th>\n",
       "      <th>10</th>\n",
       "      <th>11</th>\n",
       "      <th>12</th>\n",
       "      <th>13</th>\n",
       "      <th>14</th>\n",
       "      <th>15</th>\n",
       "      <th>16</th>\n",
       "      <th>17</th>\n",
       "      <th>18</th>\n",
       "      <th>19</th>\n",
       "      <th>20</th>\n",
       "      <th>21</th>\n",
       "      <th>22</th>\n",
       "      <th>23</th>\n",
       "      <th>24</th>\n",
       "      <th>25</th>\n",
       "      <th>26</th>\n",
       "      <th>27</th>\n",
       "      <th>28</th>\n",
       "      <th>29</th>\n",
       "      <th>30</th>\n",
       "      <th>31</th>\n",
       "      <th>32</th>\n",
       "      <th>33</th>\n",
       "      <th>34</th>\n",
       "      <th>35</th>\n",
       "      <th>36</th>\n",
       "      <th>37</th>\n",
       "      <th>38</th>\n",
       "      <th>39</th>\n",
       "      <th>40</th>\n",
       "      <th>41</th>\n",
       "      <th>42</th>\n",
       "      <th>43</th>\n",
       "      <th>44</th>\n",
       "      <th>45</th>\n",
       "      <th>46</th>\n",
       "      <th>47</th>\n",
       "      <th>48</th>\n",
       "      <th>49</th>\n",
       "      <th>50</th>\n",
       "      <th>51</th>\n",
       "      <th>52</th>\n",
       "      <th>53</th>\n",
       "      <th>54</th>\n",
       "      <th>55</th>\n",
       "      <th>56</th>\n",
       "      <th>57</th>\n",
       "      <th>58</th>\n",
       "      <th>59</th>\n",
       "      <th>60</th>\n",
       "      <th>61</th>\n",
       "      <th>62</th>\n",
       "      <th>63</th>\n",
       "      <th>64</th>\n",
       "      <th>65</th>\n",
       "      <th>66</th>\n",
       "      <th>67</th>\n",
       "      <th>68</th>\n",
       "      <th>69</th>\n",
       "    </tr>\n",
       "  </thead>\n",
       "  <tbody>\n",
       "    <tr>\n",
       "      <th>0</th>\n",
       "      <td>2487200875</td>\n",
       "      <td>20141209T000000</td>\n",
       "      <td>604000.0</td>\n",
       "      <td>4</td>\n",
       "      <td>3.00</td>\n",
       "      <td>1960</td>\n",
       "      <td>5000</td>\n",
       "      <td>1.0</td>\n",
       "      <td>0</td>\n",
       "      <td>0</td>\n",
       "      <td>5</td>\n",
       "      <td>7</td>\n",
       "      <td>1050</td>\n",
       "      <td>910</td>\n",
       "      <td>1965</td>\n",
       "      <td>0</td>\n",
       "      <td>98136</td>\n",
       "      <td>47.5208</td>\n",
       "      <td>-122.393</td>\n",
       "      <td>1360</td>\n",
       "      <td>5000</td>\n",
       "      <td>7.580700</td>\n",
       "      <td>8.517193</td>\n",
       "      <td>3040</td>\n",
       "      <td>56</td>\n",
       "      <td>0.0</td>\n",
       "      <td>0.0</td>\n",
       "      <td>0.0</td>\n",
       "      <td>0.0</td>\n",
       "      <td>0.0</td>\n",
       "      <td>0.0</td>\n",
       "      <td>0.0</td>\n",
       "      <td>0.0</td>\n",
       "      <td>0.0</td>\n",
       "      <td>0.0</td>\n",
       "      <td>0.0</td>\n",
       "      <td>0.0</td>\n",
       "      <td>0.0</td>\n",
       "      <td>0.0</td>\n",
       "      <td>0.0</td>\n",
       "      <td>0.0</td>\n",
       "      <td>0.0</td>\n",
       "      <td>0.0</td>\n",
       "      <td>0.0</td>\n",
       "      <td>0.0</td>\n",
       "      <td>0.0</td>\n",
       "      <td>0.0</td>\n",
       "      <td>0.0</td>\n",
       "      <td>0.0</td>\n",
       "      <td>0.0</td>\n",
       "      <td>0.0</td>\n",
       "      <td>0.0</td>\n",
       "      <td>0.0</td>\n",
       "      <td>0.0</td>\n",
       "      <td>0.0</td>\n",
       "      <td>0.0</td>\n",
       "      <td>0.0</td>\n",
       "      <td>0.0</td>\n",
       "      <td>0.0</td>\n",
       "      <td>0.0</td>\n",
       "      <td>0.0</td>\n",
       "      <td>0.0</td>\n",
       "      <td>0.0</td>\n",
       "      <td>0.0</td>\n",
       "      <td>0.0</td>\n",
       "      <td>0.0</td>\n",
       "      <td>0.0</td>\n",
       "      <td>0.0</td>\n",
       "      <td>0.0</td>\n",
       "      <td>0.0</td>\n",
       "      <td>0.0</td>\n",
       "      <td>0.0</td>\n",
       "      <td>0.0</td>\n",
       "      <td>0.0</td>\n",
       "      <td>0.0</td>\n",
       "      <td>0.0</td>\n",
       "      <td>0.0</td>\n",
       "      <td>0.0</td>\n",
       "      <td>0.0</td>\n",
       "      <td>0.0</td>\n",
       "      <td>0.0</td>\n",
       "      <td>0.0</td>\n",
       "      <td>0.0</td>\n",
       "      <td>1.0</td>\n",
       "      <td>0.0</td>\n",
       "      <td>0.0</td>\n",
       "      <td>0.0</td>\n",
       "      <td>0.0</td>\n",
       "      <td>0.0</td>\n",
       "      <td>0.0</td>\n",
       "      <td>0.0</td>\n",
       "      <td>0.0</td>\n",
       "      <td>0.0</td>\n",
       "      <td>0.0</td>\n",
       "      <td>0.0</td>\n",
       "    </tr>\n",
       "    <tr>\n",
       "      <th>1</th>\n",
       "      <td>7237550310</td>\n",
       "      <td>20140512T000000</td>\n",
       "      <td>1230000.0</td>\n",
       "      <td>4</td>\n",
       "      <td>4.50</td>\n",
       "      <td>5420</td>\n",
       "      <td>101930</td>\n",
       "      <td>1.0</td>\n",
       "      <td>0</td>\n",
       "      <td>0</td>\n",
       "      <td>3</td>\n",
       "      <td>11</td>\n",
       "      <td>3890</td>\n",
       "      <td>1530</td>\n",
       "      <td>2001</td>\n",
       "      <td>0</td>\n",
       "      <td>98053</td>\n",
       "      <td>47.6561</td>\n",
       "      <td>-122.005</td>\n",
       "      <td>4760</td>\n",
       "      <td>101930</td>\n",
       "      <td>8.597851</td>\n",
       "      <td>11.532042</td>\n",
       "      <td>96510</td>\n",
       "      <td>20</td>\n",
       "      <td>0.0</td>\n",
       "      <td>0.0</td>\n",
       "      <td>0.0</td>\n",
       "      <td>0.0</td>\n",
       "      <td>0.0</td>\n",
       "      <td>0.0</td>\n",
       "      <td>0.0</td>\n",
       "      <td>0.0</td>\n",
       "      <td>0.0</td>\n",
       "      <td>0.0</td>\n",
       "      <td>0.0</td>\n",
       "      <td>0.0</td>\n",
       "      <td>0.0</td>\n",
       "      <td>0.0</td>\n",
       "      <td>0.0</td>\n",
       "      <td>0.0</td>\n",
       "      <td>0.0</td>\n",
       "      <td>0.0</td>\n",
       "      <td>0.0</td>\n",
       "      <td>0.0</td>\n",
       "      <td>0.0</td>\n",
       "      <td>0.0</td>\n",
       "      <td>0.0</td>\n",
       "      <td>0.0</td>\n",
       "      <td>0.0</td>\n",
       "      <td>0.0</td>\n",
       "      <td>0.0</td>\n",
       "      <td>0.0</td>\n",
       "      <td>0.0</td>\n",
       "      <td>1.0</td>\n",
       "      <td>0.0</td>\n",
       "      <td>0.0</td>\n",
       "      <td>0.0</td>\n",
       "      <td>0.0</td>\n",
       "      <td>0.0</td>\n",
       "      <td>0.0</td>\n",
       "      <td>0.0</td>\n",
       "      <td>0.0</td>\n",
       "      <td>0.0</td>\n",
       "      <td>0.0</td>\n",
       "      <td>0.0</td>\n",
       "      <td>0.0</td>\n",
       "      <td>0.0</td>\n",
       "      <td>0.0</td>\n",
       "      <td>0.0</td>\n",
       "      <td>0.0</td>\n",
       "      <td>0.0</td>\n",
       "      <td>0.0</td>\n",
       "      <td>0.0</td>\n",
       "      <td>0.0</td>\n",
       "      <td>0.0</td>\n",
       "      <td>0.0</td>\n",
       "      <td>0.0</td>\n",
       "      <td>0.0</td>\n",
       "      <td>0.0</td>\n",
       "      <td>0.0</td>\n",
       "      <td>0.0</td>\n",
       "      <td>0.0</td>\n",
       "      <td>0.0</td>\n",
       "      <td>0.0</td>\n",
       "      <td>0.0</td>\n",
       "      <td>0.0</td>\n",
       "      <td>0.0</td>\n",
       "      <td>0.0</td>\n",
       "      <td>0.0</td>\n",
       "      <td>0.0</td>\n",
       "      <td>0.0</td>\n",
       "      <td>0.0</td>\n",
       "      <td>0.0</td>\n",
       "      <td>0.0</td>\n",
       "    </tr>\n",
       "    <tr>\n",
       "      <th>2</th>\n",
       "      <td>9212900260</td>\n",
       "      <td>20140527T000000</td>\n",
       "      <td>468000.0</td>\n",
       "      <td>2</td>\n",
       "      <td>1.00</td>\n",
       "      <td>1160</td>\n",
       "      <td>6000</td>\n",
       "      <td>1.0</td>\n",
       "      <td>0</td>\n",
       "      <td>0</td>\n",
       "      <td>4</td>\n",
       "      <td>7</td>\n",
       "      <td>860</td>\n",
       "      <td>300</td>\n",
       "      <td>1942</td>\n",
       "      <td>0</td>\n",
       "      <td>98115</td>\n",
       "      <td>47.6900</td>\n",
       "      <td>-122.292</td>\n",
       "      <td>1330</td>\n",
       "      <td>6000</td>\n",
       "      <td>7.056175</td>\n",
       "      <td>8.699515</td>\n",
       "      <td>4840</td>\n",
       "      <td>79</td>\n",
       "      <td>0.0</td>\n",
       "      <td>0.0</td>\n",
       "      <td>0.0</td>\n",
       "      <td>0.0</td>\n",
       "      <td>0.0</td>\n",
       "      <td>0.0</td>\n",
       "      <td>0.0</td>\n",
       "      <td>0.0</td>\n",
       "      <td>0.0</td>\n",
       "      <td>0.0</td>\n",
       "      <td>0.0</td>\n",
       "      <td>0.0</td>\n",
       "      <td>0.0</td>\n",
       "      <td>0.0</td>\n",
       "      <td>0.0</td>\n",
       "      <td>0.0</td>\n",
       "      <td>0.0</td>\n",
       "      <td>0.0</td>\n",
       "      <td>0.0</td>\n",
       "      <td>0.0</td>\n",
       "      <td>0.0</td>\n",
       "      <td>0.0</td>\n",
       "      <td>0.0</td>\n",
       "      <td>0.0</td>\n",
       "      <td>0.0</td>\n",
       "      <td>0.0</td>\n",
       "      <td>0.0</td>\n",
       "      <td>0.0</td>\n",
       "      <td>0.0</td>\n",
       "      <td>0.0</td>\n",
       "      <td>0.0</td>\n",
       "      <td>0.0</td>\n",
       "      <td>0.0</td>\n",
       "      <td>0.0</td>\n",
       "      <td>0.0</td>\n",
       "      <td>0.0</td>\n",
       "      <td>0.0</td>\n",
       "      <td>0.0</td>\n",
       "      <td>0.0</td>\n",
       "      <td>0.0</td>\n",
       "      <td>0.0</td>\n",
       "      <td>0.0</td>\n",
       "      <td>0.0</td>\n",
       "      <td>0.0</td>\n",
       "      <td>0.0</td>\n",
       "      <td>0.0</td>\n",
       "      <td>0.0</td>\n",
       "      <td>0.0</td>\n",
       "      <td>0.0</td>\n",
       "      <td>1.0</td>\n",
       "      <td>0.0</td>\n",
       "      <td>0.0</td>\n",
       "      <td>0.0</td>\n",
       "      <td>0.0</td>\n",
       "      <td>0.0</td>\n",
       "      <td>0.0</td>\n",
       "      <td>0.0</td>\n",
       "      <td>0.0</td>\n",
       "      <td>0.0</td>\n",
       "      <td>0.0</td>\n",
       "      <td>0.0</td>\n",
       "      <td>0.0</td>\n",
       "      <td>0.0</td>\n",
       "      <td>0.0</td>\n",
       "      <td>0.0</td>\n",
       "      <td>0.0</td>\n",
       "      <td>0.0</td>\n",
       "      <td>0.0</td>\n",
       "      <td>0.0</td>\n",
       "      <td>0.0</td>\n",
       "    </tr>\n",
       "    <tr>\n",
       "      <th>3</th>\n",
       "      <td>114101516</td>\n",
       "      <td>20140528T000000</td>\n",
       "      <td>310000.0</td>\n",
       "      <td>3</td>\n",
       "      <td>1.00</td>\n",
       "      <td>1430</td>\n",
       "      <td>19901</td>\n",
       "      <td>1.5</td>\n",
       "      <td>0</td>\n",
       "      <td>0</td>\n",
       "      <td>4</td>\n",
       "      <td>7</td>\n",
       "      <td>1430</td>\n",
       "      <td>0</td>\n",
       "      <td>1927</td>\n",
       "      <td>0</td>\n",
       "      <td>98028</td>\n",
       "      <td>47.7558</td>\n",
       "      <td>-122.229</td>\n",
       "      <td>1780</td>\n",
       "      <td>12697</td>\n",
       "      <td>7.265430</td>\n",
       "      <td>9.898525</td>\n",
       "      <td>18471</td>\n",
       "      <td>94</td>\n",
       "      <td>0.0</td>\n",
       "      <td>0.0</td>\n",
       "      <td>0.0</td>\n",
       "      <td>0.0</td>\n",
       "      <td>0.0</td>\n",
       "      <td>0.0</td>\n",
       "      <td>0.0</td>\n",
       "      <td>0.0</td>\n",
       "      <td>0.0</td>\n",
       "      <td>0.0</td>\n",
       "      <td>0.0</td>\n",
       "      <td>0.0</td>\n",
       "      <td>0.0</td>\n",
       "      <td>0.0</td>\n",
       "      <td>0.0</td>\n",
       "      <td>0.0</td>\n",
       "      <td>1.0</td>\n",
       "      <td>0.0</td>\n",
       "      <td>0.0</td>\n",
       "      <td>0.0</td>\n",
       "      <td>0.0</td>\n",
       "      <td>0.0</td>\n",
       "      <td>0.0</td>\n",
       "      <td>0.0</td>\n",
       "      <td>0.0</td>\n",
       "      <td>0.0</td>\n",
       "      <td>0.0</td>\n",
       "      <td>0.0</td>\n",
       "      <td>0.0</td>\n",
       "      <td>0.0</td>\n",
       "      <td>0.0</td>\n",
       "      <td>0.0</td>\n",
       "      <td>0.0</td>\n",
       "      <td>0.0</td>\n",
       "      <td>0.0</td>\n",
       "      <td>0.0</td>\n",
       "      <td>0.0</td>\n",
       "      <td>0.0</td>\n",
       "      <td>0.0</td>\n",
       "      <td>0.0</td>\n",
       "      <td>0.0</td>\n",
       "      <td>0.0</td>\n",
       "      <td>0.0</td>\n",
       "      <td>0.0</td>\n",
       "      <td>0.0</td>\n",
       "      <td>0.0</td>\n",
       "      <td>0.0</td>\n",
       "      <td>0.0</td>\n",
       "      <td>0.0</td>\n",
       "      <td>0.0</td>\n",
       "      <td>0.0</td>\n",
       "      <td>0.0</td>\n",
       "      <td>0.0</td>\n",
       "      <td>0.0</td>\n",
       "      <td>0.0</td>\n",
       "      <td>0.0</td>\n",
       "      <td>0.0</td>\n",
       "      <td>0.0</td>\n",
       "      <td>0.0</td>\n",
       "      <td>0.0</td>\n",
       "      <td>0.0</td>\n",
       "      <td>0.0</td>\n",
       "      <td>0.0</td>\n",
       "      <td>0.0</td>\n",
       "      <td>0.0</td>\n",
       "      <td>0.0</td>\n",
       "      <td>0.0</td>\n",
       "      <td>0.0</td>\n",
       "      <td>0.0</td>\n",
       "      <td>0.0</td>\n",
       "    </tr>\n",
       "    <tr>\n",
       "      <th>4</th>\n",
       "      <td>6054650070</td>\n",
       "      <td>20141007T000000</td>\n",
       "      <td>400000.0</td>\n",
       "      <td>3</td>\n",
       "      <td>1.75</td>\n",
       "      <td>1370</td>\n",
       "      <td>9680</td>\n",
       "      <td>1.0</td>\n",
       "      <td>0</td>\n",
       "      <td>0</td>\n",
       "      <td>4</td>\n",
       "      <td>7</td>\n",
       "      <td>1370</td>\n",
       "      <td>0</td>\n",
       "      <td>1977</td>\n",
       "      <td>0</td>\n",
       "      <td>98074</td>\n",
       "      <td>47.6127</td>\n",
       "      <td>-122.045</td>\n",
       "      <td>1370</td>\n",
       "      <td>10208</td>\n",
       "      <td>7.222566</td>\n",
       "      <td>9.177817</td>\n",
       "      <td>8310</td>\n",
       "      <td>44</td>\n",
       "      <td>0.0</td>\n",
       "      <td>0.0</td>\n",
       "      <td>0.0</td>\n",
       "      <td>0.0</td>\n",
       "      <td>0.0</td>\n",
       "      <td>0.0</td>\n",
       "      <td>0.0</td>\n",
       "      <td>0.0</td>\n",
       "      <td>0.0</td>\n",
       "      <td>0.0</td>\n",
       "      <td>0.0</td>\n",
       "      <td>0.0</td>\n",
       "      <td>0.0</td>\n",
       "      <td>0.0</td>\n",
       "      <td>0.0</td>\n",
       "      <td>0.0</td>\n",
       "      <td>0.0</td>\n",
       "      <td>0.0</td>\n",
       "      <td>0.0</td>\n",
       "      <td>0.0</td>\n",
       "      <td>0.0</td>\n",
       "      <td>0.0</td>\n",
       "      <td>0.0</td>\n",
       "      <td>0.0</td>\n",
       "      <td>0.0</td>\n",
       "      <td>0.0</td>\n",
       "      <td>0.0</td>\n",
       "      <td>0.0</td>\n",
       "      <td>0.0</td>\n",
       "      <td>0.0</td>\n",
       "      <td>0.0</td>\n",
       "      <td>0.0</td>\n",
       "      <td>0.0</td>\n",
       "      <td>0.0</td>\n",
       "      <td>0.0</td>\n",
       "      <td>0.0</td>\n",
       "      <td>0.0</td>\n",
       "      <td>1.0</td>\n",
       "      <td>0.0</td>\n",
       "      <td>0.0</td>\n",
       "      <td>0.0</td>\n",
       "      <td>0.0</td>\n",
       "      <td>0.0</td>\n",
       "      <td>0.0</td>\n",
       "      <td>0.0</td>\n",
       "      <td>0.0</td>\n",
       "      <td>0.0</td>\n",
       "      <td>0.0</td>\n",
       "      <td>0.0</td>\n",
       "      <td>0.0</td>\n",
       "      <td>0.0</td>\n",
       "      <td>0.0</td>\n",
       "      <td>0.0</td>\n",
       "      <td>0.0</td>\n",
       "      <td>0.0</td>\n",
       "      <td>0.0</td>\n",
       "      <td>0.0</td>\n",
       "      <td>0.0</td>\n",
       "      <td>0.0</td>\n",
       "      <td>0.0</td>\n",
       "      <td>0.0</td>\n",
       "      <td>0.0</td>\n",
       "      <td>0.0</td>\n",
       "      <td>0.0</td>\n",
       "      <td>0.0</td>\n",
       "      <td>0.0</td>\n",
       "      <td>0.0</td>\n",
       "      <td>0.0</td>\n",
       "      <td>0.0</td>\n",
       "      <td>0.0</td>\n",
       "    </tr>\n",
       "  </tbody>\n",
       "</table>\n",
       "</div>"
      ],
      "text/plain": [
       "           id             date      price  bedrooms  bathrooms  sqft_living  \\\n",
       "0  2487200875  20141209T000000   604000.0         4       3.00         1960   \n",
       "1  7237550310  20140512T000000  1230000.0         4       4.50         5420   \n",
       "2  9212900260  20140527T000000   468000.0         2       1.00         1160   \n",
       "3   114101516  20140528T000000   310000.0         3       1.00         1430   \n",
       "4  6054650070  20141007T000000   400000.0         3       1.75         1370   \n",
       "\n",
       "   sqft_lot  floors  waterfront  view  condition  grade  sqft_above  \\\n",
       "0      5000     1.0           0     0          5      7        1050   \n",
       "1    101930     1.0           0     0          3     11        3890   \n",
       "2      6000     1.0           0     0          4      7         860   \n",
       "3     19901     1.5           0     0          4      7        1430   \n",
       "4      9680     1.0           0     0          4      7        1370   \n",
       "\n",
       "   sqft_basement  yr_built  yr_renovated  zipcode      lat     long  \\\n",
       "0            910      1965             0    98136  47.5208 -122.393   \n",
       "1           1530      2001             0    98053  47.6561 -122.005   \n",
       "2            300      1942             0    98115  47.6900 -122.292   \n",
       "3              0      1927             0    98028  47.7558 -122.229   \n",
       "4              0      1977             0    98074  47.6127 -122.045   \n",
       "\n",
       "   sqft_living15  sqft_lot15  log_sqft_living  log_sqft_lot  \\\n",
       "0           1360        5000         7.580700      8.517193   \n",
       "1           4760      101930         8.597851     11.532042   \n",
       "2           1330        6000         7.056175      8.699515   \n",
       "3           1780       12697         7.265430      9.898525   \n",
       "4           1370       10208         7.222566      9.177817   \n",
       "\n",
       "   Difference in area  No.of years    0    1    2    3    4    5    6    7  \\\n",
       "0                3040           56  0.0  0.0  0.0  0.0  0.0  0.0  0.0  0.0   \n",
       "1               96510           20  0.0  0.0  0.0  0.0  0.0  0.0  0.0  0.0   \n",
       "2                4840           79  0.0  0.0  0.0  0.0  0.0  0.0  0.0  0.0   \n",
       "3               18471           94  0.0  0.0  0.0  0.0  0.0  0.0  0.0  0.0   \n",
       "4                8310           44  0.0  0.0  0.0  0.0  0.0  0.0  0.0  0.0   \n",
       "\n",
       "     8    9   10   11   12   13   14   15   16   17   18   19   20   21   22  \\\n",
       "0  0.0  0.0  0.0  0.0  0.0  0.0  0.0  0.0  0.0  0.0  0.0  0.0  0.0  0.0  0.0   \n",
       "1  0.0  0.0  0.0  0.0  0.0  0.0  0.0  0.0  0.0  0.0  0.0  0.0  0.0  0.0  0.0   \n",
       "2  0.0  0.0  0.0  0.0  0.0  0.0  0.0  0.0  0.0  0.0  0.0  0.0  0.0  0.0  0.0   \n",
       "3  0.0  0.0  0.0  0.0  0.0  0.0  0.0  0.0  1.0  0.0  0.0  0.0  0.0  0.0  0.0   \n",
       "4  0.0  0.0  0.0  0.0  0.0  0.0  0.0  0.0  0.0  0.0  0.0  0.0  0.0  0.0  0.0   \n",
       "\n",
       "    23   24   25   26   27   28   29   30   31   32   33   34   35   36   37  \\\n",
       "0  0.0  0.0  0.0  0.0  0.0  0.0  0.0  0.0  0.0  0.0  0.0  0.0  0.0  0.0  0.0   \n",
       "1  0.0  0.0  0.0  0.0  0.0  0.0  1.0  0.0  0.0  0.0  0.0  0.0  0.0  0.0  0.0   \n",
       "2  0.0  0.0  0.0  0.0  0.0  0.0  0.0  0.0  0.0  0.0  0.0  0.0  0.0  0.0  0.0   \n",
       "3  0.0  0.0  0.0  0.0  0.0  0.0  0.0  0.0  0.0  0.0  0.0  0.0  0.0  0.0  0.0   \n",
       "4  0.0  0.0  0.0  0.0  0.0  0.0  0.0  0.0  0.0  0.0  0.0  0.0  0.0  0.0  1.0   \n",
       "\n",
       "    38   39   40   41   42   43   44   45   46   47   48   49   50   51   52  \\\n",
       "0  0.0  0.0  0.0  0.0  0.0  0.0  0.0  0.0  0.0  0.0  0.0  0.0  0.0  0.0  0.0   \n",
       "1  0.0  0.0  0.0  0.0  0.0  0.0  0.0  0.0  0.0  0.0  0.0  0.0  0.0  0.0  0.0   \n",
       "2  0.0  0.0  0.0  0.0  0.0  0.0  0.0  0.0  0.0  0.0  0.0  1.0  0.0  0.0  0.0   \n",
       "3  0.0  0.0  0.0  0.0  0.0  0.0  0.0  0.0  0.0  0.0  0.0  0.0  0.0  0.0  0.0   \n",
       "4  0.0  0.0  0.0  0.0  0.0  0.0  0.0  0.0  0.0  0.0  0.0  0.0  0.0  0.0  0.0   \n",
       "\n",
       "    53   54   55   56   57   58   59   60   61   62   63   64   65   66   67  \\\n",
       "0  0.0  0.0  0.0  0.0  0.0  1.0  0.0  0.0  0.0  0.0  0.0  0.0  0.0  0.0  0.0   \n",
       "1  0.0  0.0  0.0  0.0  0.0  0.0  0.0  0.0  0.0  0.0  0.0  0.0  0.0  0.0  0.0   \n",
       "2  0.0  0.0  0.0  0.0  0.0  0.0  0.0  0.0  0.0  0.0  0.0  0.0  0.0  0.0  0.0   \n",
       "3  0.0  0.0  0.0  0.0  0.0  0.0  0.0  0.0  0.0  0.0  0.0  0.0  0.0  0.0  0.0   \n",
       "4  0.0  0.0  0.0  0.0  0.0  0.0  0.0  0.0  0.0  0.0  0.0  0.0  0.0  0.0  0.0   \n",
       "\n",
       "    68   69  \n",
       "0  0.0  0.0  \n",
       "1  0.0  0.0  \n",
       "2  0.0  0.0  \n",
       "3  0.0  0.0  \n",
       "4  0.0  0.0  "
      ]
     },
     "execution_count": 75,
     "metadata": {},
     "output_type": "execute_result"
    }
   ],
   "source": [
    "# One-hot encoding object\n",
    "O=OneHotEncoder(handle_unknown='ignore')\n",
    "# Zipcode column in house dataframe is turned into binary categorical with each of the 70 columns having 0s and 1s\n",
    "# and converted to a dataframe\n",
    "a=pd.DataFrame(O.fit_transform(house[['zipcode']]).toarray()) #,data.bedrooms\n",
    "\n",
    "# A new dataframe is created by adding one-hot encoded columns to house dataframe.\n",
    "new_df=house.join(a)\n",
    "\n",
    "\n",
    "new_df.head()"
   ]
  },
  {
   "cell_type": "code",
   "execution_count": 51,
   "metadata": {},
   "outputs": [],
   "source": [
    "#new_df.columns"
   ]
  },
  {
   "cell_type": "code",
   "execution_count": 76,
   "metadata": {},
   "outputs": [],
   "source": [
    "# List of features\n",
    "X7 = new_df[[      'bedrooms',          'bathrooms',      \n",
    "                   'floors',         'waterfront',\n",
    "                     'view',                        'grade',\n",
    "               'sqft_above',      'sqft_basement',\n",
    "             'yr_renovated',      'sqft_living15',      \n",
    "          'log_sqft_living',       'log_sqft_lot',\n",
    "              'No.of years',                    0,                    1,\n",
    "                          2,                    3,                    4,\n",
    "                          5,                    6,                    7,\n",
    "                          8,                    9,                   10,\n",
    "                         11,                   12,                   13,\n",
    "                         14,                   15,                   16,\n",
    "                         17,                   18,                   19,\n",
    "                         20,                   21,                   22,\n",
    "                         23,                   24,                   25,\n",
    "                         26,                   27,                   28,\n",
    "                         29,                   30,                   31,\n",
    "                         32,                   33,                   34,\n",
    "                         35,                   36,                   37,\n",
    "                         38,                   39,                   40,\n",
    "                         41,                   42,                   43,\n",
    "                         44,                   45,                   46,\n",
    "                         47,                   48,                   49,\n",
    "                         50,                   51,                   52,\n",
    "                         53,                   54,                   55,\n",
    "                         56,                   57,                   58,\n",
    "                         59,                   60,                   61,\n",
    "                         62,                   63,                   64,\n",
    "                         65,                   66,                   67,\n",
    "                         68,                   69]]\n",
    "\n",
    "# Target variable\n",
    "y7 = new_df[\"price\"]"
   ]
  },
  {
   "cell_type": "code",
   "execution_count": 77,
   "metadata": {},
   "outputs": [],
   "source": [
    "# Standardisation to bring all variables on the same scale with mean 0 and std 1.\n",
    "X_train7 = (X7 - np.mean(X7))/(np.std(X7))\n",
    "y_train7 = y7"
   ]
  },
  {
   "cell_type": "code",
   "execution_count": 78,
   "metadata": {},
   "outputs": [],
   "source": [
    "# Linear Regression object\n",
    "model = LinearRegression()"
   ]
  },
  {
   "cell_type": "code",
   "execution_count": 79,
   "metadata": {},
   "outputs": [
    {
     "data": {
      "text/plain": [
       "{'fit_time': array([0.17459297, 0.04961681, 0.01661849, 0.01774573, 0.03256273,\n",
       "        0.01768923, 0.03235531, 0.03323054, 0.05085659, 0.03286743]),\n",
       " 'score_time': array([0.01656985, 0.01561832, 0.01640987, 0.        , 0.        ,\n",
       "        0.01548409, 0.        , 0.        , 0.        , 0.01525998]),\n",
       " 'test_r2': array([0.80308045, 0.83930867, 0.82588803, 0.82017072, 0.7789968 ,\n",
       "        0.82072599, 0.83566654, 0.84055532, 0.8069885 , 0.82079551]),\n",
       " 'test_neg_root_mean_squared_error': array([-163007.59503357, -167310.61302343, -130757.77664958,\n",
       "        -193690.54366921, -179180.61872686, -158403.91534172,\n",
       "        -136270.49003363, -148397.23552573, -169237.53120194,\n",
       "        -157053.95719947])}"
      ]
     },
     "execution_count": 79,
     "metadata": {},
     "output_type": "execute_result"
    }
   ],
   "source": [
    "# 10-fold Cross validation with R2 and RMSE as scoring metrics\n",
    "val_score7 = cross_validate(model, X_train7, y_train7, cv = 10, scoring=[\"r2\",\"neg_root_mean_squared_error\"])\n",
    "\n",
    "val_score7"
   ]
  },
  {
   "cell_type": "code",
   "execution_count": 80,
   "metadata": {},
   "outputs": [
    {
     "data": {
      "text/plain": [
       "(0.8192176548249537, -160331.027640514)"
      ]
     },
     "execution_count": 80,
     "metadata": {},
     "output_type": "execute_result"
    }
   ],
   "source": [
    "# R2 and RMSE of 10-fold cross validation\n",
    "val_score7[\"test_r2\"].mean() , val_score7[\"test_neg_root_mean_squared_error\"].mean()"
   ]
  },
  {
   "cell_type": "code",
   "execution_count": 81,
   "metadata": {},
   "outputs": [
    {
     "data": {
      "text/plain": [
       "0.8176670777194945"
      ]
     },
     "execution_count": 81,
     "metadata": {},
     "output_type": "execute_result"
    }
   ],
   "source": [
    "# Adjusted R2\n",
    "n = len(X_train7)       # Sample size\n",
    "p = len(X7.columns)     # No.of columns in training data\n",
    "\n",
    "adj_r2 = 1-(1-val_score7[\"test_r2\"].mean())*(n-1)/(n-p-1)\n",
    "\n",
    "adj_r2"
   ]
  },
  {
   "cell_type": "markdown",
   "metadata": {},
   "source": [
    "## 5) Model fitting step 2          <a id='11' >  </a>"
   ]
  },
  {
   "cell_type": "markdown",
   "metadata": {},
   "source": [
    "### Forward selection:                 <a id='12' >  </a>"
   ]
  },
  {
   "cell_type": "code",
   "execution_count": null,
   "metadata": {},
   "outputs": [],
   "source": [
    "!pip install mlxtend"
   ]
  },
  {
   "cell_type": "code",
   "execution_count": 82,
   "metadata": {},
   "outputs": [],
   "source": [
    "# Library for Forward selection or backward elimination\n",
    "from mlxtend.feature_selection import SequentialFeatureSelector as sfs"
   ]
  },
  {
   "cell_type": "code",
   "execution_count": 83,
   "metadata": {},
   "outputs": [],
   "source": [
    "# Linear Regression object\n",
    "lreg = LinearRegression()\n",
    "\n",
    "# Forward selection with no.of features fixed to 13\n",
    "sfs1 = sfs(lreg, k_features=13, forward=True, verbose=1, scoring='r2')"
   ]
  },
  {
   "cell_type": "markdown",
   "metadata": {},
   "source": [
    "**Without including one-hot encoded variables:**"
   ]
  },
  {
   "cell_type": "code",
   "execution_count": 84,
   "metadata": {},
   "outputs": [],
   "source": [
    "# List of features\n",
    "X = house.drop(['id','date','lat','long','price','yr_built','zipcode','sqft_living','sqft_lot'],axis=1)\n",
    "\n",
    "# Target variable\n",
    "y = house[\"price\"]"
   ]
  },
  {
   "cell_type": "code",
   "execution_count": 85,
   "metadata": {},
   "outputs": [
    {
     "name": "stderr",
     "output_type": "stream",
     "text": [
      "[Parallel(n_jobs=1)]: Using backend SequentialBackend with 1 concurrent workers.\n",
      "[Parallel(n_jobs=1)]: Done  16 out of  16 | elapsed:    0.1s finished\n",
      "Features: 1/13[Parallel(n_jobs=1)]: Using backend SequentialBackend with 1 concurrent workers.\n",
      "[Parallel(n_jobs=1)]: Done  15 out of  15 | elapsed:    0.1s finished\n",
      "Features: 2/13[Parallel(n_jobs=1)]: Using backend SequentialBackend with 1 concurrent workers.\n",
      "[Parallel(n_jobs=1)]: Done  14 out of  14 | elapsed:    0.1s finished\n",
      "Features: 3/13[Parallel(n_jobs=1)]: Using backend SequentialBackend with 1 concurrent workers.\n",
      "[Parallel(n_jobs=1)]: Done  13 out of  13 | elapsed:    0.1s finished\n",
      "Features: 4/13[Parallel(n_jobs=1)]: Using backend SequentialBackend with 1 concurrent workers.\n",
      "[Parallel(n_jobs=1)]: Done  12 out of  12 | elapsed:    0.1s finished\n",
      "Features: 5/13[Parallel(n_jobs=1)]: Using backend SequentialBackend with 1 concurrent workers.\n",
      "[Parallel(n_jobs=1)]: Done  11 out of  11 | elapsed:    0.2s finished\n",
      "Features: 6/13[Parallel(n_jobs=1)]: Using backend SequentialBackend with 1 concurrent workers.\n",
      "[Parallel(n_jobs=1)]: Done  10 out of  10 | elapsed:    0.1s finished\n",
      "Features: 7/13[Parallel(n_jobs=1)]: Using backend SequentialBackend with 1 concurrent workers.\n",
      "[Parallel(n_jobs=1)]: Done   9 out of   9 | elapsed:    0.1s finished\n",
      "Features: 8/13[Parallel(n_jobs=1)]: Using backend SequentialBackend with 1 concurrent workers.\n",
      "[Parallel(n_jobs=1)]: Done   8 out of   8 | elapsed:    0.1s finished\n",
      "Features: 9/13[Parallel(n_jobs=1)]: Using backend SequentialBackend with 1 concurrent workers.\n",
      "[Parallel(n_jobs=1)]: Done   7 out of   7 | elapsed:    0.1s finished\n",
      "Features: 10/13[Parallel(n_jobs=1)]: Using backend SequentialBackend with 1 concurrent workers.\n",
      "[Parallel(n_jobs=1)]: Done   6 out of   6 | elapsed:    0.1s finished\n",
      "Features: 11/13[Parallel(n_jobs=1)]: Using backend SequentialBackend with 1 concurrent workers.\n",
      "[Parallel(n_jobs=1)]: Done   5 out of   5 | elapsed:    0.1s finished\n",
      "Features: 12/13[Parallel(n_jobs=1)]: Using backend SequentialBackend with 1 concurrent workers.\n",
      "[Parallel(n_jobs=1)]: Done   4 out of   4 | elapsed:    0.0s finished\n",
      "Features: 13/13"
     ]
    }
   ],
   "source": [
    "sfs1 = sfs1.fit(X, y)"
   ]
  },
  {
   "cell_type": "code",
   "execution_count": 86,
   "metadata": {},
   "outputs": [
    {
     "data": {
      "text/plain": [
       "['bedrooms',\n",
       " 'bathrooms',\n",
       " 'waterfront',\n",
       " 'view',\n",
       " 'condition',\n",
       " 'grade',\n",
       " 'sqft_above',\n",
       " 'sqft_basement',\n",
       " 'sqft_living15',\n",
       " 'log_sqft_living',\n",
       " 'log_sqft_lot',\n",
       " 'Difference in area',\n",
       " 'No.of years']"
      ]
     },
     "execution_count": 86,
     "metadata": {},
     "output_type": "execute_result"
    }
   ],
   "source": [
    "# List of final features obtained.\n",
    "list(sfs1.k_feature_names_)"
   ]
  },
  {
   "cell_type": "code",
   "execution_count": 87,
   "metadata": {},
   "outputs": [
    {
     "data": {
      "text/plain": [
       "0.6928661902469936"
      ]
     },
     "execution_count": 87,
     "metadata": {},
     "output_type": "execute_result"
    }
   ],
   "source": [
    "# R2 of the model\n",
    "sfs1.k_score_"
   ]
  },
  {
   "cell_type": "markdown",
   "metadata": {},
   "source": [
    "### Backward elimination:                      <a id='13' >  </a>"
   ]
  },
  {
   "cell_type": "code",
   "execution_count": null,
   "metadata": {},
   "outputs": [],
   "source": [
    "!pip install mlxtend"
   ]
  },
  {
   "cell_type": "code",
   "execution_count": 88,
   "metadata": {},
   "outputs": [],
   "source": [
    "# Library for Forward selection or backward elimination\n",
    "from mlxtend.feature_selection import SequentialFeatureSelector as sfs"
   ]
  },
  {
   "cell_type": "code",
   "execution_count": 89,
   "metadata": {},
   "outputs": [],
   "source": [
    "# Linear Regression object\n",
    "lreg = LinearRegression()\n",
    "\n",
    "# Forward selection with no.of features fixed to 13\n",
    "sfs1 = sfs(lreg, k_features=13, forward=False, verbose=1, scoring='r2')"
   ]
  },
  {
   "cell_type": "markdown",
   "metadata": {},
   "source": [
    "**Without including one-hot encoded variables:**"
   ]
  },
  {
   "cell_type": "code",
   "execution_count": 90,
   "metadata": {},
   "outputs": [],
   "source": [
    "# List of features\n",
    "X = house.drop(['id','date','lat','long','price','yr_built','zipcode','sqft_living','sqft_lot'],axis=1)\n",
    "\n",
    "# Target variable\n",
    "y = house[\"price\"]"
   ]
  },
  {
   "cell_type": "code",
   "execution_count": 91,
   "metadata": {},
   "outputs": [
    {
     "name": "stderr",
     "output_type": "stream",
     "text": [
      "[Parallel(n_jobs=1)]: Using backend SequentialBackend with 1 concurrent workers.\n",
      "[Parallel(n_jobs=1)]: Done  16 out of  16 | elapsed:    0.4s finished\n",
      "Features: 15/13[Parallel(n_jobs=1)]: Using backend SequentialBackend with 1 concurrent workers.\n",
      "[Parallel(n_jobs=1)]: Done  15 out of  15 | elapsed:    0.2s finished\n",
      "Features: 14/13[Parallel(n_jobs=1)]: Using backend SequentialBackend with 1 concurrent workers.\n",
      "[Parallel(n_jobs=1)]: Done  14 out of  14 | elapsed:    0.4s finished\n",
      "Features: 13/13"
     ]
    }
   ],
   "source": [
    "sfs1 = sfs1.fit(X, y)"
   ]
  },
  {
   "cell_type": "code",
   "execution_count": 92,
   "metadata": {},
   "outputs": [
    {
     "data": {
      "text/plain": [
       "['bedrooms',\n",
       " 'bathrooms',\n",
       " 'waterfront',\n",
       " 'view',\n",
       " 'condition',\n",
       " 'grade',\n",
       " 'sqft_above',\n",
       " 'sqft_basement',\n",
       " 'sqft_living15',\n",
       " 'log_sqft_living',\n",
       " 'log_sqft_lot',\n",
       " 'Difference in area',\n",
       " 'No.of years']"
      ]
     },
     "execution_count": 92,
     "metadata": {},
     "output_type": "execute_result"
    }
   ],
   "source": [
    "# List of final features obtained.\n",
    "list(sfs1.k_feature_names_)"
   ]
  },
  {
   "cell_type": "code",
   "execution_count": 93,
   "metadata": {},
   "outputs": [
    {
     "data": {
      "text/plain": [
       "0.6928661902469936"
      ]
     },
     "execution_count": 93,
     "metadata": {},
     "output_type": "execute_result"
    }
   ],
   "source": [
    "# R2 of the model.\n",
    "sfs1.k_score_"
   ]
  },
  {
   "cell_type": "markdown",
   "metadata": {},
   "source": [
    "## 6) Model fitting step 3                 <a id='14' >  </a>"
   ]
  },
  {
   "cell_type": "markdown",
   "metadata": {},
   "source": [
    "### Decision Tree:"
   ]
  },
  {
   "cell_type": "code",
   "execution_count": 94,
   "metadata": {},
   "outputs": [],
   "source": [
    "from sklearn.tree import DecisionTreeRegressor"
   ]
  },
  {
   "cell_type": "code",
   "execution_count": 95,
   "metadata": {},
   "outputs": [],
   "source": [
    "# Decision Tree object\n",
    "dt = DecisionTreeRegressor(max_depth = 3, min_samples_leaf = 5)"
   ]
  },
  {
   "cell_type": "markdown",
   "metadata": {},
   "source": [
    "**Feature Set - 1:**"
   ]
  },
  {
   "cell_type": "code",
   "execution_count": 96,
   "metadata": {},
   "outputs": [],
   "source": [
    "# List of features\n",
    "X1 = house[[\"bathrooms\",\"grade\",\"sqft_living\",\"sqft_above\",\"sqft_living15\"]]\n",
    "\n",
    "# Target variable\n",
    "y1 = house[\"price\"]\n",
    "\n",
    "# Standardisation to bring all variables on the same scale with mean 0 and std 1.\n",
    "X_train1 = (X1 - np.mean(X1))/(np.std(X1))\n",
    "y_train1 = y1"
   ]
  },
  {
   "cell_type": "code",
   "execution_count": 97,
   "metadata": {},
   "outputs": [
    {
     "data": {
      "text/plain": [
       "{'fit_time': array([0.25012589, 0.01683807, 0.01687026, 0.01675773, 0.01677585,\n",
       "        0.        , 0.        , 0.01677537, 0.01568437, 0.        ]),\n",
       " 'score_time': array([0.00729418, 0.        , 0.        , 0.        , 0.        ,\n",
       "        0.01566553, 0.        , 0.        , 0.        , 0.01641536]),\n",
       " 'test_neg_root_mean_squared_error': array([-244647.47547441, -284786.39714457, -262372.50170584,\n",
       "        -295793.00939081, -266001.105318  , -282145.00565857,\n",
       "        -252490.33519857, -255587.5764588 , -265274.25051618,\n",
       "        -259290.5530024 ]),\n",
       " 'test_r2': array([0.5564377 , 0.53443112, 0.29898034, 0.58060874, 0.51293898,\n",
       "        0.43123844, 0.43582755, 0.52702533, 0.52577983, 0.51154506])}"
      ]
     },
     "execution_count": 97,
     "metadata": {},
     "output_type": "execute_result"
    }
   ],
   "source": [
    "# 10-fold Cross validation with R2 and RMSE as scoring metrics\n",
    "val_score_dt1 = cross_validate(dt, X_train1, y_train1, cv = 10, \n",
    "                                scoring = ['neg_root_mean_squared_error','r2'])\n",
    "\n",
    "val_score_dt1"
   ]
  },
  {
   "cell_type": "code",
   "execution_count": 98,
   "metadata": {},
   "outputs": [
    {
     "data": {
      "text/plain": [
       "(0.49148130837159715, -266838.8209868153)"
      ]
     },
     "execution_count": 98,
     "metadata": {},
     "output_type": "execute_result"
    }
   ],
   "source": [
    "# R2 and RMSE of 10-fold cross validation\n",
    "val_score_dt1['test_r2'].mean(), val_score_dt1['test_neg_root_mean_squared_error'].mean()"
   ]
  },
  {
   "cell_type": "markdown",
   "metadata": {},
   "source": [
    "**Feature Set - 2:**"
   ]
  },
  {
   "cell_type": "code",
   "execution_count": 99,
   "metadata": {},
   "outputs": [],
   "source": [
    "# List of features\n",
    "X2 = house[[\"bedrooms\",\"bathrooms\",\"floors\",\"waterfront\",\"view\",\"grade\",\"sqft_living\",\"sqft_living15\",\"sqft_above\",\n",
    "            \"sqft_basement\"]]\n",
    "\n",
    "# Target variable\n",
    "y2 = house[\"price\"]\n",
    "\n",
    "# Standardisation to bring all variables on the same scale with mean 0 and std 1.\n",
    "X_train2 = (X2 - np.mean(X2))/(np.std(X2))\n",
    "y_train2 = y2"
   ]
  },
  {
   "cell_type": "code",
   "execution_count": 100,
   "metadata": {},
   "outputs": [
    {
     "data": {
      "text/plain": [
       "{'fit_time': array([0.0158329 , 0.01691008, 0.00649333, 0.00714755, 0.01546144,\n",
       "        0.01267648, 0.00858116, 0.00829768, 0.01759863, 0.        ]),\n",
       " 'score_time': array([0.        , 0.00099659, 0.00852919, 0.01232147, 0.        ,\n",
       "        0.        , 0.00866556, 0.        , 0.        , 0.        ]),\n",
       " 'test_neg_root_mean_squared_error': array([-243451.66825666, -282807.74470633, -258430.14600694,\n",
       "        -328599.6501813 , -263895.00415563, -277740.34860201,\n",
       "        -252400.5675952 , -253287.77082831, -263799.53819348,\n",
       "        -265110.94875377]),\n",
       " 'test_r2': array([0.56076326, 0.54087805, 0.31988882, 0.48241968, 0.52062119,\n",
       "        0.44885807, 0.43622863, 0.53549879, 0.53103774, 0.48936986])}"
      ]
     },
     "execution_count": 100,
     "metadata": {},
     "output_type": "execute_result"
    }
   ],
   "source": [
    "# 10-fold Cross validation with R2 and RMSE as scoring metrics\n",
    "val_score_dt2 = cross_validate(dt, X_train2, y_train2, cv = 10, \n",
    "                                scoring = ['neg_root_mean_squared_error','r2'])\n",
    "\n",
    "val_score_dt2"
   ]
  },
  {
   "cell_type": "code",
   "execution_count": 101,
   "metadata": {},
   "outputs": [
    {
     "data": {
      "text/plain": [
       "(0.4865564100426246, -268952.33872796287)"
      ]
     },
     "execution_count": 101,
     "metadata": {},
     "output_type": "execute_result"
    }
   ],
   "source": [
    "# R2 and RMSE of 10-fold cross validation\n",
    "val_score_dt2['test_r2'].mean(), val_score_dt2['test_neg_root_mean_squared_error'].mean()"
   ]
  },
  {
   "cell_type": "markdown",
   "metadata": {},
   "source": [
    "**Feature Set - 3:**"
   ]
  },
  {
   "cell_type": "code",
   "execution_count": 102,
   "metadata": {},
   "outputs": [],
   "source": [
    "# List of features\n",
    "X3 = house[[\"bedrooms\",\"bathrooms\",\"floors\",\"waterfront\",\"view\",\"grade\",\"log_sqft_living\",\"sqft_living15\",\"sqft_above\",\n",
    "           \"log_sqft_lot\",\"sqft_basement\"]]\n",
    "\n",
    "# Target variable\n",
    "y3 = house[\"price\"]\n",
    "\n",
    "# Standardisation to bring all variables on the same scale with mean 0 and std 1.\n",
    "X_train3 = (X3 - np.mean(X3))/(np.std(X3))\n",
    "y_train3 = y3"
   ]
  },
  {
   "cell_type": "code",
   "execution_count": 103,
   "metadata": {},
   "outputs": [
    {
     "data": {
      "text/plain": [
       "{'fit_time': array([0.01317453, 0.01570392, 0.01798296, 0.01815248, 0.00577426,\n",
       "        0.00672102, 0.0081265 , 0.0058949 , 0.        , 0.00946879]),\n",
       " 'score_time': array([0.00648499, 0.        , 0.        , 0.00905108, 0.0092566 ,\n",
       "        0.00808167, 0.00985956, 0.00902247, 0.01582909, 0.        ]),\n",
       " 'test_neg_root_mean_squared_error': array([-243451.66825666, -282807.74470633, -258430.14600694,\n",
       "        -328599.6501813 , -263895.00415563, -277740.34860201,\n",
       "        -252400.5675952 , -253287.77082831, -263799.53819348,\n",
       "        -265110.94875377]),\n",
       " 'test_r2': array([0.56076326, 0.54087805, 0.31988882, 0.48241968, 0.52062119,\n",
       "        0.44885807, 0.43622863, 0.53549879, 0.53103774, 0.48936986])}"
      ]
     },
     "execution_count": 103,
     "metadata": {},
     "output_type": "execute_result"
    }
   ],
   "source": [
    "# 10-fold Cross validation with R2 and RMSE as scoring metrics\n",
    "val_score_dt3 = cross_validate(dt, X_train3, y_train3, cv = 10, \n",
    "                                scoring = ['neg_root_mean_squared_error','r2'])\n",
    "\n",
    "val_score_dt3"
   ]
  },
  {
   "cell_type": "code",
   "execution_count": 104,
   "metadata": {},
   "outputs": [
    {
     "data": {
      "text/plain": [
       "(0.4865564100426246, -268952.33872796287)"
      ]
     },
     "execution_count": 104,
     "metadata": {},
     "output_type": "execute_result"
    }
   ],
   "source": [
    "# R2 and RMSE of 10-fold cross validation\n",
    "val_score_dt3['test_r2'].mean(), val_score_dt3['test_neg_root_mean_squared_error'].mean()"
   ]
  },
  {
   "cell_type": "markdown",
   "metadata": {},
   "source": [
    "**Feature Set - 4:**"
   ]
  },
  {
   "cell_type": "code",
   "execution_count": 105,
   "metadata": {},
   "outputs": [],
   "source": [
    "# List of features\n",
    "X4 = house[[\"bedrooms\",\"bathrooms\",\"floors\",\"waterfront\",\"view\",\"grade\",\"log_sqft_living\",\"sqft_living15\",\"sqft_above\",\n",
    "           \"log_sqft_lot\",\"sqft_basement\",\"yr_renovated\"]]\n",
    "\n",
    "# Target variable\n",
    "y4 = house[\"price\"]\n",
    "\n",
    "# Standardisation to bring all variables on the same scale with mean 0 and std 1.\n",
    "X_train4 = (X4 - np.mean(X4))/(np.std(X4))\n",
    "y_train4 = y4"
   ]
  },
  {
   "cell_type": "code",
   "execution_count": 106,
   "metadata": {},
   "outputs": [
    {
     "data": {
      "text/plain": [
       "{'fit_time': array([0.01822877, 0.01093221, 0.01607633, 0.01592183, 0.01403689,\n",
       "        0.01555681, 0.01694751, 0.        , 0.        , 0.00099683]),\n",
       " 'score_time': array([0.        , 0.00804663, 0.00571942, 0.00413036, 0.        ,\n",
       "        0.        , 0.00103188, 0.01671147, 0.01555324, 0.        ]),\n",
       " 'test_neg_root_mean_squared_error': array([-243451.66825666, -282807.74470633, -258430.14600694,\n",
       "        -328599.6501813 , -263895.00415563, -277740.34860201,\n",
       "        -252400.5675952 , -253287.77082831, -263799.53819348,\n",
       "        -265110.94875377]),\n",
       " 'test_r2': array([0.56076326, 0.54087805, 0.31988882, 0.48241968, 0.52062119,\n",
       "        0.44885807, 0.43622863, 0.53549879, 0.53103774, 0.48936986])}"
      ]
     },
     "execution_count": 106,
     "metadata": {},
     "output_type": "execute_result"
    }
   ],
   "source": [
    "# 10-fold Cross validation with R2 and RMSE as scoring metrics\n",
    "val_score_dt4 = cross_validate(dt, X_train4, y_train4, cv = 10, \n",
    "                                scoring = ['neg_root_mean_squared_error','r2'])\n",
    "\n",
    "val_score_dt4"
   ]
  },
  {
   "cell_type": "code",
   "execution_count": 107,
   "metadata": {},
   "outputs": [
    {
     "data": {
      "text/plain": [
       "(0.4865564100426246, -268952.33872796287)"
      ]
     },
     "execution_count": 107,
     "metadata": {},
     "output_type": "execute_result"
    }
   ],
   "source": [
    "# R2 and RMSE of 10-fold cross validation\n",
    "val_score_dt4['test_r2'].mean(), val_score_dt4['test_neg_root_mean_squared_error'].mean()"
   ]
  },
  {
   "cell_type": "markdown",
   "metadata": {},
   "source": [
    "**Feature Set - 5:**"
   ]
  },
  {
   "cell_type": "code",
   "execution_count": 108,
   "metadata": {},
   "outputs": [],
   "source": [
    "# List of features\n",
    "X5 = house[[\"bedrooms\",\"bathrooms\",\"floors\",\"waterfront\",\"view\",\"grade\",\"log_sqft_living\",\"sqft_living15\",\"sqft_above\",\n",
    "           \"log_sqft_lot\",\"sqft_basement\",\"yr_renovated\",\"Difference in area\"]]\n",
    "\n",
    "# Target variable\n",
    "y5 = house[\"price\"]\n",
    "\n",
    "# Standardisation to bring all variables on the same scale with mean 0 and std 1.\n",
    "X_train5 = (X5 - np.mean(X5))/(np.std(X5))\n",
    "y_train5 = y5"
   ]
  },
  {
   "cell_type": "code",
   "execution_count": 109,
   "metadata": {},
   "outputs": [
    {
     "data": {
      "text/plain": [
       "{'fit_time': array([0.01980305, 0.01749992, 0.01856327, 0.02335882, 0.01689029,\n",
       "        0.01676846, 0.00805235, 0.01530647, 0.01056218, 0.0236547 ]),\n",
       " 'score_time': array([0.        , 0.        , 0.        , 0.        , 0.        ,\n",
       "        0.        , 0.0157268 , 0.00099826, 0.01568174, 0.        ]),\n",
       " 'test_neg_root_mean_squared_error': array([-243451.66825666, -282807.74470633, -258430.14600694,\n",
       "        -328599.6501813 , -263895.00415563, -277740.34860201,\n",
       "        -252400.5675952 , -253287.77082831, -263799.53819348,\n",
       "        -265110.94875377]),\n",
       " 'test_r2': array([0.56076326, 0.54087805, 0.31988882, 0.48241968, 0.52062119,\n",
       "        0.44885807, 0.43622863, 0.53549879, 0.53103774, 0.48936986])}"
      ]
     },
     "execution_count": 109,
     "metadata": {},
     "output_type": "execute_result"
    }
   ],
   "source": [
    "# 10-fold Cross validation with R2 and RMSE as scoring metrics\n",
    "val_score_dt5 = cross_validate(dt, X_train5, y_train5, cv = 10, \n",
    "                                scoring = ['neg_root_mean_squared_error','r2'])\n",
    "\n",
    "val_score_dt5"
   ]
  },
  {
   "cell_type": "code",
   "execution_count": 110,
   "metadata": {},
   "outputs": [
    {
     "data": {
      "text/plain": [
       "(0.4865564100426246, -268952.33872796287)"
      ]
     },
     "execution_count": 110,
     "metadata": {},
     "output_type": "execute_result"
    }
   ],
   "source": [
    "# R2 and RMSE of 10-fold cross validation\n",
    "val_score_dt5['test_r2'].mean(), val_score_dt5['test_neg_root_mean_squared_error'].mean()"
   ]
  },
  {
   "cell_type": "markdown",
   "metadata": {},
   "source": [
    "**Feature Set - 6:**"
   ]
  },
  {
   "cell_type": "code",
   "execution_count": 111,
   "metadata": {},
   "outputs": [],
   "source": [
    "# List of features\n",
    "X6 = house[[\"bedrooms\",\"bathrooms\",\"floors\",\"waterfront\",\"view\",\"grade\",\"log_sqft_living\",\"sqft_living15\",\"sqft_above\",\n",
    "           \"log_sqft_lot\",\"sqft_basement\",\"yr_renovated\",\"No.of years\"]]\n",
    "\n",
    "# Target variable\n",
    "y6 = house[\"price\"]\n",
    "\n",
    "# Standardisation to bring all variables on the same scale with mean 0 and std 1.\n",
    "X_train6 = (X6 - np.mean(X6))/(np.std(X6))\n",
    "y_train6 = y6"
   ]
  },
  {
   "cell_type": "code",
   "execution_count": 112,
   "metadata": {},
   "outputs": [
    {
     "data": {
      "text/plain": [
       "{'fit_time': array([0.02332282, 0.01649284, 0.01885152, 0.01943231, 0.01690149,\n",
       "        0.01533008, 0.01674533, 0.01677418, 0.01655149, 0.01773024]),\n",
       " 'score_time': array([0.        , 0.00804377, 0.00354624, 0.        , 0.        ,\n",
       "        0.        , 0.        , 0.        , 0.        , 0.        ]),\n",
       " 'test_neg_root_mean_squared_error': array([-246365.76460388, -283840.58595644, -258430.14600694,\n",
       "        -327464.96974592, -255559.7627944 , -282044.39594291,\n",
       "        -252400.5675952 , -250801.92677864, -259956.65337231,\n",
       "        -261289.00218503]),\n",
       " 'test_r2': array([0.55018508, 0.53751841, 0.31988882, 0.485988  , 0.55042573,\n",
       "        0.43164399, 0.43622863, 0.54457156, 0.54460138, 0.50398663])}"
      ]
     },
     "execution_count": 112,
     "metadata": {},
     "output_type": "execute_result"
    }
   ],
   "source": [
    "# 10-fold Cross validation with R2 and RMSE as scoring metrics\n",
    "val_score_dt6 = cross_validate(dt, X_train6, y_train6, cv = 10, \n",
    "                                                      scoring = ['neg_root_mean_squared_error','r2'])\n",
    "\n",
    "val_score_dt6"
   ]
  },
  {
   "cell_type": "code",
   "execution_count": 113,
   "metadata": {},
   "outputs": [
    {
     "data": {
      "text/plain": [
       "(0.49050382531924086, -267815.37749816803)"
      ]
     },
     "execution_count": 113,
     "metadata": {},
     "output_type": "execute_result"
    }
   ],
   "source": [
    "# R2 and RMSE of 10-fold cross validation\n",
    "val_score_dt6['test_r2'].mean(),val_score_dt6['test_neg_root_mean_squared_error'].mean()"
   ]
  },
  {
   "cell_type": "markdown",
   "metadata": {},
   "source": [
    "**Feature Set - 7:**"
   ]
  },
  {
   "cell_type": "code",
   "execution_count": 114,
   "metadata": {},
   "outputs": [],
   "source": [
    "# List of features\n",
    "X7 = new_df[[      'bedrooms',          'bathrooms',      \n",
    "                   'floors',         'waterfront',\n",
    "                     'view',                        'grade',\n",
    "               'sqft_above',      'sqft_basement',\n",
    "             'yr_renovated',      'sqft_living15',      \n",
    "          'log_sqft_living',       'log_sqft_lot',\n",
    "              'No.of years',                    0,                    1,\n",
    "                          2,                    3,                    4,\n",
    "                          5,                    6,                    7,\n",
    "                          8,                    9,                   10,\n",
    "                         11,                   12,                   13,\n",
    "                         14,                   15,                   16,\n",
    "                         17,                   18,                   19,\n",
    "                         20,                   21,                   22,\n",
    "                         23,                   24,                   25,\n",
    "                         26,                   27,                   28,\n",
    "                         29,                   30,                   31,\n",
    "                         32,                   33,                   34,\n",
    "                         35,                   36,                   37,\n",
    "                         38,                   39,                   40,\n",
    "                         41,                   42,                   43,\n",
    "                         44,                   45,                   46,\n",
    "                         47,                   48,                   49,\n",
    "                         50,                   51,                   52,\n",
    "                         53,                   54,                   55,\n",
    "                         56,                   57,                   58,\n",
    "                         59,                   60,                   61,\n",
    "                         62,                   63,                   64,\n",
    "                         65,                   66,                   67,\n",
    "                         68,                   69]]\n",
    "\n",
    "# Target variable\n",
    "y7 = new_df[\"price\"]\n",
    "\n",
    "# Standardisation to bring all variables on the same scale with mean 0 and std 1.\n",
    "X_train7 = (X7 - np.mean(X7))/(np.std(X7))\n",
    "y_train7 = y7"
   ]
  },
  {
   "cell_type": "code",
   "execution_count": 115,
   "metadata": {},
   "outputs": [
    {
     "data": {
      "text/plain": [
       "{'fit_time': array([0.04854798, 0.04048729, 0.0278194 , 0.03271151, 0.03433108,\n",
       "        0.03241658, 0.032444  , 0.04595184, 0.03096199, 0.03001571]),\n",
       " 'score_time': array([0.00585413, 0.        , 0.        , 0.        , 0.        ,\n",
       "        0.        , 0.        , 0.00451756, 0.00331402, 0.00574684]),\n",
       " 'test_neg_root_mean_squared_error': array([-246365.76460388, -283840.58595644, -258430.14600694,\n",
       "        -327464.96974592, -255559.7627944 , -282044.39594291,\n",
       "        -252400.5675952 , -250801.92677864, -259956.65337231,\n",
       "        -261289.00218503]),\n",
       " 'test_r2': array([0.55018508, 0.53751841, 0.31988882, 0.485988  , 0.55042573,\n",
       "        0.43164399, 0.43622863, 0.54457156, 0.54460138, 0.50398663])}"
      ]
     },
     "execution_count": 115,
     "metadata": {},
     "output_type": "execute_result"
    }
   ],
   "source": [
    "# 10-fold Cross validation with R2 and RMSE as scoring metrics\n",
    "val_score_dt7 = sklearn.model_selection.cross_validate(dt, X_train7, y_train7, cv = 10, \n",
    "                                                      scoring = ['neg_root_mean_squared_error','r2'])\n",
    "\n",
    "val_score_dt7"
   ]
  },
  {
   "cell_type": "code",
   "execution_count": 116,
   "metadata": {},
   "outputs": [
    {
     "data": {
      "text/plain": [
       "(0.49050382531924086, -267815.37749816803)"
      ]
     },
     "execution_count": 116,
     "metadata": {},
     "output_type": "execute_result"
    }
   ],
   "source": [
    "# R2 and RMSE of 10-fold cross validation\n",
    "val_score_dt7['test_r2'].mean(),val_score_dt7['test_neg_root_mean_squared_error'].mean()"
   ]
  },
  {
   "cell_type": "markdown",
   "metadata": {},
   "source": [
    "## 7) Model testing                <a id='15' >  </a>"
   ]
  },
  {
   "cell_type": "markdown",
   "metadata": {},
   "source": [
    "**The best competing models have been Linear Regression models.**"
   ]
  },
  {
   "cell_type": "markdown",
   "metadata": {},
   "source": [
    "**Feature Set - 1:**"
   ]
  },
  {
   "cell_type": "code",
   "execution_count": 117,
   "metadata": {},
   "outputs": [],
   "source": [
    "# Reading test dataset\n",
    "test = pd.read_csv(r\"E:\\Data Science\\D21- IML- Introduction to Machine Learning\\kc_house_test_data.csv\")"
   ]
  },
  {
   "cell_type": "code",
   "execution_count": 118,
   "metadata": {},
   "outputs": [],
   "source": [
    "# List of features\n",
    "X = house[[\"bedrooms\",\"bathrooms\",\"floors\",\"waterfront\",\"view\",\"grade\",\"log_sqft_living\",\"sqft_living15\",\"sqft_above\",\n",
    "           \"log_sqft_lot\",\"sqft_basement\",\"yr_renovated\",\"No.of years\"]]\n",
    "\n",
    "# Target variable\n",
    "y = house[\"price\"]"
   ]
  },
  {
   "cell_type": "code",
   "execution_count": 119,
   "metadata": {},
   "outputs": [
    {
     "name": "stderr",
     "output_type": "stream",
     "text": [
      "<ipython-input-119-f97bc5ff248b>:3: SettingWithCopyWarning: \n",
      "A value is trying to be set on a copy of a slice from a DataFrame\n",
      "\n",
      "See the caveats in the documentation: https://pandas.pydata.org/pandas-docs/stable/user_guide/indexing.html#returning-a-view-versus-a-copy\n",
      "  test[\"yr_renovated\"][test[\"yr_renovated\"]>0]=1\n"
     ]
    }
   ],
   "source": [
    "test[\"log_sqft_living\"] = np.log(test[\"sqft_living\"])\n",
    "test[\"log_sqft_lot\"] = np.log(test[\"sqft_lot\"])\n",
    "test[\"yr_renovated\"][test[\"yr_renovated\"]>0]=1\n",
    "test[\"No.of years\"] = 2021 - test[\"yr_built\"]\n",
    "test[\"Difference in area\"] = test[\"sqft_lot\"] - test[\"sqft_living\"]"
   ]
  },
  {
   "cell_type": "code",
   "execution_count": 128,
   "metadata": {},
   "outputs": [],
   "source": [
    "# Features to be tested on the model\n",
    "X_test = test[[\"bedrooms\",\"bathrooms\",\"floors\",\"waterfront\",\"view\",\"grade\",\"log_sqft_living\",\"sqft_living15\",\"sqft_above\",\n",
    "           \"log_sqft_lot\",\"sqft_basement\",\"yr_renovated\",\"No.of years\"]]\n",
    "\n",
    "# Actual y-values\n",
    "y_test = test[\"price\"]"
   ]
  },
  {
   "cell_type": "code",
   "execution_count": 129,
   "metadata": {},
   "outputs": [
    {
     "data": {
      "text/plain": [
       "LinearRegression()"
      ]
     },
     "execution_count": 129,
     "metadata": {},
     "output_type": "execute_result"
    }
   ],
   "source": [
    "# Fitting Linear Regression model\n",
    "model = LinearRegression()\n",
    "model.fit(X,y)"
   ]
  },
  {
   "cell_type": "code",
   "execution_count": 130,
   "metadata": {},
   "outputs": [],
   "source": [
    "# Predicting the house price\n",
    "y_pred = model.predict(X_test)"
   ]
  },
  {
   "cell_type": "code",
   "execution_count": 131,
   "metadata": {},
   "outputs": [
    {
     "data": {
      "text/plain": [
       "0.6507088524263291"
      ]
     },
     "execution_count": 131,
     "metadata": {},
     "output_type": "execute_result"
    }
   ],
   "source": [
    "# R2 of predicted model\n",
    "sklearn.metrics.r2_score(y_test,y_pred)"
   ]
  },
  {
   "cell_type": "code",
   "execution_count": 133,
   "metadata": {},
   "outputs": [
    {
     "data": {
      "text/plain": [
       "211782.853524571"
      ]
     },
     "execution_count": 133,
     "metadata": {},
     "output_type": "execute_result"
    }
   ],
   "source": [
    "# RMSE of predicted model\n",
    "np.sqrt(sklearn.metrics.mean_squared_error(y_test,y_pred))"
   ]
  },
  {
   "cell_type": "markdown",
   "metadata": {},
   "source": [
    "**Conclusion:**\n",
    "\n",
    "We used the feature set which gave us the maximum $R^{2}$ value while training data, to predict the house price. The model returned an $R^{2}$ value of 0.65 which is close to the value during training step. We used Forward selection method to arrive at ideal set of predictors and predicted the house prices of test data"
   ]
  }
 ],
 "metadata": {
  "kernelspec": {
   "display_name": "Python 3",
   "language": "python",
   "name": "python3"
  },
  "language_info": {
   "codemirror_mode": {
    "name": "ipython",
    "version": 3
   },
   "file_extension": ".py",
   "mimetype": "text/x-python",
   "name": "python",
   "nbconvert_exporter": "python",
   "pygments_lexer": "ipython3",
   "version": "3.8.5"
  }
 },
 "nbformat": 4,
 "nbformat_minor": 5
}
